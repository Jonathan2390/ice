{
 "cells": [
  {
   "cell_type": "markdown",
   "metadata": {},
   "source": [
    "# 1 Tienda de videojuegos online ICE"
   ]
  },
  {
   "cell_type": "markdown",
   "metadata": {},
   "source": [
    "## Descripción del proyecto"
   ]
  },
  {
   "cell_type": "markdown",
   "metadata": {
    "tags": [
     "e5c1f0c2-db9f-43a0-99b9-4875c52427e8"
    ]
   },
   "source": [
    "\n",
    "Trabajas para la tienda online Ice que vende videojuegos por todo el mundo. Las reseñas de usuarios y expertos, los géneros, las plataformas (por ejemplo, Xbox o PlayStation) y los datos históricos sobre las ventas de juegos están disponibles en fuentes abiertas. Tienes que identificar patrones que determinen si un juego tiene éxito o no. Esto te permitirá detectar proyectos prometedores y planificar campañas publicitarias.\n",
    "\n",
    "Delante de ti hay datos que se remontan a 2016. Imaginemos que es diciembre de 2016 y estás planeando una campaña para 2017.\n",
    "\n",
    "Lo importante es adquirir experiencia de trabajo con datos. Realmente no importa si estás pronosticando las ventas de 2017 en función de los datos de 2016 o las ventas de 2027 en función de los datos de 2026.\n",
    "\n",
    "El dataset contiene una columna \"rating\" que almacena la clasificación ESRB de cada juego. El Entertainment Software Rating Board (la Junta de clasificación de software de entretenimiento) evalúa el contenido de un juego y asigna una clasificación de edad como Adolescente o Adulto.\n",
    "\n",
    "\n",
    "Ruta de archivo:\n",
    "\n",
    "/datasets/games.csv"
   ]
  },
  {
   "cell_type": "markdown",
   "metadata": {},
   "source": [
    "##  Abriendo el archivo y estudiando la información general"
   ]
  },
  {
   "cell_type": "markdown",
   "metadata": {},
   "source": [
    "### Carga de librerías requeridas para la ejecución del proyecto"
   ]
  },
  {
   "cell_type": "code",
   "execution_count": 3,
   "metadata": {
    "trusted": true
   },
   "outputs": [],
   "source": [
    "#Carga las librerías\n",
    "from scipy import stats as st\n",
    "from scipy.stats import levene\n",
    "import math as mt\n",
    "import numpy as np\n",
    "import pandas as pd\n",
    "import matplotlib.pyplot as plt\n",
    "import seaborn as sns"
   ]
  },
  {
   "cell_type": "markdown",
   "metadata": {},
   "source": [
    "### Carga de los datos del dataframe"
   ]
  },
  {
   "cell_type": "code",
   "execution_count": 4,
   "metadata": {
    "trusted": true
   },
   "outputs": [
    {
     "ename": "FileNotFoundError",
     "evalue": "[Errno 2] No such file or directory: '/datasets/games.csv'",
     "output_type": "error",
     "traceback": [
      "\u001b[1;31m---------------------------------------------------------------------------\u001b[0m",
      "\u001b[1;31mFileNotFoundError\u001b[0m                         Traceback (most recent call last)",
      "Cell \u001b[1;32mIn[4], line 2\u001b[0m\n\u001b[0;32m      1\u001b[0m \u001b[38;5;66;03m#Carga el dataframe\u001b[39;00m\n\u001b[1;32m----> 2\u001b[0m df_ice\u001b[38;5;241m=\u001b[39m\u001b[43mpd\u001b[49m\u001b[38;5;241;43m.\u001b[39;49m\u001b[43mread_csv\u001b[49m\u001b[43m(\u001b[49m\u001b[38;5;124;43m'\u001b[39;49m\u001b[38;5;124;43m/datasets/games.csv\u001b[39;49m\u001b[38;5;124;43m'\u001b[39;49m\u001b[43m \u001b[49m\u001b[43m,\u001b[49m\u001b[43m \u001b[49m\u001b[43msep\u001b[49m\u001b[38;5;241;43m=\u001b[39;49m\u001b[38;5;124;43m'\u001b[39;49m\u001b[38;5;124;43m,\u001b[39;49m\u001b[38;5;124;43m'\u001b[39;49m\u001b[43m)\u001b[49m\n",
      "File \u001b[1;32m~\\AppData\\Roaming\\Python\\Python312\\site-packages\\pandas\\io\\parsers\\readers.py:1026\u001b[0m, in \u001b[0;36mread_csv\u001b[1;34m(filepath_or_buffer, sep, delimiter, header, names, index_col, usecols, dtype, engine, converters, true_values, false_values, skipinitialspace, skiprows, skipfooter, nrows, na_values, keep_default_na, na_filter, verbose, skip_blank_lines, parse_dates, infer_datetime_format, keep_date_col, date_parser, date_format, dayfirst, cache_dates, iterator, chunksize, compression, thousands, decimal, lineterminator, quotechar, quoting, doublequote, escapechar, comment, encoding, encoding_errors, dialect, on_bad_lines, delim_whitespace, low_memory, memory_map, float_precision, storage_options, dtype_backend)\u001b[0m\n\u001b[0;32m   1013\u001b[0m kwds_defaults \u001b[38;5;241m=\u001b[39m _refine_defaults_read(\n\u001b[0;32m   1014\u001b[0m     dialect,\n\u001b[0;32m   1015\u001b[0m     delimiter,\n\u001b[1;32m   (...)\u001b[0m\n\u001b[0;32m   1022\u001b[0m     dtype_backend\u001b[38;5;241m=\u001b[39mdtype_backend,\n\u001b[0;32m   1023\u001b[0m )\n\u001b[0;32m   1024\u001b[0m kwds\u001b[38;5;241m.\u001b[39mupdate(kwds_defaults)\n\u001b[1;32m-> 1026\u001b[0m \u001b[38;5;28;01mreturn\u001b[39;00m \u001b[43m_read\u001b[49m\u001b[43m(\u001b[49m\u001b[43mfilepath_or_buffer\u001b[49m\u001b[43m,\u001b[49m\u001b[43m \u001b[49m\u001b[43mkwds\u001b[49m\u001b[43m)\u001b[49m\n",
      "File \u001b[1;32m~\\AppData\\Roaming\\Python\\Python312\\site-packages\\pandas\\io\\parsers\\readers.py:620\u001b[0m, in \u001b[0;36m_read\u001b[1;34m(filepath_or_buffer, kwds)\u001b[0m\n\u001b[0;32m    617\u001b[0m _validate_names(kwds\u001b[38;5;241m.\u001b[39mget(\u001b[38;5;124m\"\u001b[39m\u001b[38;5;124mnames\u001b[39m\u001b[38;5;124m\"\u001b[39m, \u001b[38;5;28;01mNone\u001b[39;00m))\n\u001b[0;32m    619\u001b[0m \u001b[38;5;66;03m# Create the parser.\u001b[39;00m\n\u001b[1;32m--> 620\u001b[0m parser \u001b[38;5;241m=\u001b[39m \u001b[43mTextFileReader\u001b[49m\u001b[43m(\u001b[49m\u001b[43mfilepath_or_buffer\u001b[49m\u001b[43m,\u001b[49m\u001b[43m \u001b[49m\u001b[38;5;241;43m*\u001b[39;49m\u001b[38;5;241;43m*\u001b[39;49m\u001b[43mkwds\u001b[49m\u001b[43m)\u001b[49m\n\u001b[0;32m    622\u001b[0m \u001b[38;5;28;01mif\u001b[39;00m chunksize \u001b[38;5;129;01mor\u001b[39;00m iterator:\n\u001b[0;32m    623\u001b[0m     \u001b[38;5;28;01mreturn\u001b[39;00m parser\n",
      "File \u001b[1;32m~\\AppData\\Roaming\\Python\\Python312\\site-packages\\pandas\\io\\parsers\\readers.py:1620\u001b[0m, in \u001b[0;36mTextFileReader.__init__\u001b[1;34m(self, f, engine, **kwds)\u001b[0m\n\u001b[0;32m   1617\u001b[0m     \u001b[38;5;28mself\u001b[39m\u001b[38;5;241m.\u001b[39moptions[\u001b[38;5;124m\"\u001b[39m\u001b[38;5;124mhas_index_names\u001b[39m\u001b[38;5;124m\"\u001b[39m] \u001b[38;5;241m=\u001b[39m kwds[\u001b[38;5;124m\"\u001b[39m\u001b[38;5;124mhas_index_names\u001b[39m\u001b[38;5;124m\"\u001b[39m]\n\u001b[0;32m   1619\u001b[0m \u001b[38;5;28mself\u001b[39m\u001b[38;5;241m.\u001b[39mhandles: IOHandles \u001b[38;5;241m|\u001b[39m \u001b[38;5;28;01mNone\u001b[39;00m \u001b[38;5;241m=\u001b[39m \u001b[38;5;28;01mNone\u001b[39;00m\n\u001b[1;32m-> 1620\u001b[0m \u001b[38;5;28mself\u001b[39m\u001b[38;5;241m.\u001b[39m_engine \u001b[38;5;241m=\u001b[39m \u001b[38;5;28;43mself\u001b[39;49m\u001b[38;5;241;43m.\u001b[39;49m\u001b[43m_make_engine\u001b[49m\u001b[43m(\u001b[49m\u001b[43mf\u001b[49m\u001b[43m,\u001b[49m\u001b[43m \u001b[49m\u001b[38;5;28;43mself\u001b[39;49m\u001b[38;5;241;43m.\u001b[39;49m\u001b[43mengine\u001b[49m\u001b[43m)\u001b[49m\n",
      "File \u001b[1;32m~\\AppData\\Roaming\\Python\\Python312\\site-packages\\pandas\\io\\parsers\\readers.py:1880\u001b[0m, in \u001b[0;36mTextFileReader._make_engine\u001b[1;34m(self, f, engine)\u001b[0m\n\u001b[0;32m   1878\u001b[0m     \u001b[38;5;28;01mif\u001b[39;00m \u001b[38;5;124m\"\u001b[39m\u001b[38;5;124mb\u001b[39m\u001b[38;5;124m\"\u001b[39m \u001b[38;5;129;01mnot\u001b[39;00m \u001b[38;5;129;01min\u001b[39;00m mode:\n\u001b[0;32m   1879\u001b[0m         mode \u001b[38;5;241m+\u001b[39m\u001b[38;5;241m=\u001b[39m \u001b[38;5;124m\"\u001b[39m\u001b[38;5;124mb\u001b[39m\u001b[38;5;124m\"\u001b[39m\n\u001b[1;32m-> 1880\u001b[0m \u001b[38;5;28mself\u001b[39m\u001b[38;5;241m.\u001b[39mhandles \u001b[38;5;241m=\u001b[39m \u001b[43mget_handle\u001b[49m\u001b[43m(\u001b[49m\n\u001b[0;32m   1881\u001b[0m \u001b[43m    \u001b[49m\u001b[43mf\u001b[49m\u001b[43m,\u001b[49m\n\u001b[0;32m   1882\u001b[0m \u001b[43m    \u001b[49m\u001b[43mmode\u001b[49m\u001b[43m,\u001b[49m\n\u001b[0;32m   1883\u001b[0m \u001b[43m    \u001b[49m\u001b[43mencoding\u001b[49m\u001b[38;5;241;43m=\u001b[39;49m\u001b[38;5;28;43mself\u001b[39;49m\u001b[38;5;241;43m.\u001b[39;49m\u001b[43moptions\u001b[49m\u001b[38;5;241;43m.\u001b[39;49m\u001b[43mget\u001b[49m\u001b[43m(\u001b[49m\u001b[38;5;124;43m\"\u001b[39;49m\u001b[38;5;124;43mencoding\u001b[39;49m\u001b[38;5;124;43m\"\u001b[39;49m\u001b[43m,\u001b[49m\u001b[43m \u001b[49m\u001b[38;5;28;43;01mNone\u001b[39;49;00m\u001b[43m)\u001b[49m\u001b[43m,\u001b[49m\n\u001b[0;32m   1884\u001b[0m \u001b[43m    \u001b[49m\u001b[43mcompression\u001b[49m\u001b[38;5;241;43m=\u001b[39;49m\u001b[38;5;28;43mself\u001b[39;49m\u001b[38;5;241;43m.\u001b[39;49m\u001b[43moptions\u001b[49m\u001b[38;5;241;43m.\u001b[39;49m\u001b[43mget\u001b[49m\u001b[43m(\u001b[49m\u001b[38;5;124;43m\"\u001b[39;49m\u001b[38;5;124;43mcompression\u001b[39;49m\u001b[38;5;124;43m\"\u001b[39;49m\u001b[43m,\u001b[49m\u001b[43m \u001b[49m\u001b[38;5;28;43;01mNone\u001b[39;49;00m\u001b[43m)\u001b[49m\u001b[43m,\u001b[49m\n\u001b[0;32m   1885\u001b[0m \u001b[43m    \u001b[49m\u001b[43mmemory_map\u001b[49m\u001b[38;5;241;43m=\u001b[39;49m\u001b[38;5;28;43mself\u001b[39;49m\u001b[38;5;241;43m.\u001b[39;49m\u001b[43moptions\u001b[49m\u001b[38;5;241;43m.\u001b[39;49m\u001b[43mget\u001b[49m\u001b[43m(\u001b[49m\u001b[38;5;124;43m\"\u001b[39;49m\u001b[38;5;124;43mmemory_map\u001b[39;49m\u001b[38;5;124;43m\"\u001b[39;49m\u001b[43m,\u001b[49m\u001b[43m \u001b[49m\u001b[38;5;28;43;01mFalse\u001b[39;49;00m\u001b[43m)\u001b[49m\u001b[43m,\u001b[49m\n\u001b[0;32m   1886\u001b[0m \u001b[43m    \u001b[49m\u001b[43mis_text\u001b[49m\u001b[38;5;241;43m=\u001b[39;49m\u001b[43mis_text\u001b[49m\u001b[43m,\u001b[49m\n\u001b[0;32m   1887\u001b[0m \u001b[43m    \u001b[49m\u001b[43merrors\u001b[49m\u001b[38;5;241;43m=\u001b[39;49m\u001b[38;5;28;43mself\u001b[39;49m\u001b[38;5;241;43m.\u001b[39;49m\u001b[43moptions\u001b[49m\u001b[38;5;241;43m.\u001b[39;49m\u001b[43mget\u001b[49m\u001b[43m(\u001b[49m\u001b[38;5;124;43m\"\u001b[39;49m\u001b[38;5;124;43mencoding_errors\u001b[39;49m\u001b[38;5;124;43m\"\u001b[39;49m\u001b[43m,\u001b[49m\u001b[43m \u001b[49m\u001b[38;5;124;43m\"\u001b[39;49m\u001b[38;5;124;43mstrict\u001b[39;49m\u001b[38;5;124;43m\"\u001b[39;49m\u001b[43m)\u001b[49m\u001b[43m,\u001b[49m\n\u001b[0;32m   1888\u001b[0m \u001b[43m    \u001b[49m\u001b[43mstorage_options\u001b[49m\u001b[38;5;241;43m=\u001b[39;49m\u001b[38;5;28;43mself\u001b[39;49m\u001b[38;5;241;43m.\u001b[39;49m\u001b[43moptions\u001b[49m\u001b[38;5;241;43m.\u001b[39;49m\u001b[43mget\u001b[49m\u001b[43m(\u001b[49m\u001b[38;5;124;43m\"\u001b[39;49m\u001b[38;5;124;43mstorage_options\u001b[39;49m\u001b[38;5;124;43m\"\u001b[39;49m\u001b[43m,\u001b[49m\u001b[43m \u001b[49m\u001b[38;5;28;43;01mNone\u001b[39;49;00m\u001b[43m)\u001b[49m\u001b[43m,\u001b[49m\n\u001b[0;32m   1889\u001b[0m \u001b[43m\u001b[49m\u001b[43m)\u001b[49m\n\u001b[0;32m   1890\u001b[0m \u001b[38;5;28;01massert\u001b[39;00m \u001b[38;5;28mself\u001b[39m\u001b[38;5;241m.\u001b[39mhandles \u001b[38;5;129;01mis\u001b[39;00m \u001b[38;5;129;01mnot\u001b[39;00m \u001b[38;5;28;01mNone\u001b[39;00m\n\u001b[0;32m   1891\u001b[0m f \u001b[38;5;241m=\u001b[39m \u001b[38;5;28mself\u001b[39m\u001b[38;5;241m.\u001b[39mhandles\u001b[38;5;241m.\u001b[39mhandle\n",
      "File \u001b[1;32m~\\AppData\\Roaming\\Python\\Python312\\site-packages\\pandas\\io\\common.py:873\u001b[0m, in \u001b[0;36mget_handle\u001b[1;34m(path_or_buf, mode, encoding, compression, memory_map, is_text, errors, storage_options)\u001b[0m\n\u001b[0;32m    868\u001b[0m \u001b[38;5;28;01melif\u001b[39;00m \u001b[38;5;28misinstance\u001b[39m(handle, \u001b[38;5;28mstr\u001b[39m):\n\u001b[0;32m    869\u001b[0m     \u001b[38;5;66;03m# Check whether the filename is to be opened in binary mode.\u001b[39;00m\n\u001b[0;32m    870\u001b[0m     \u001b[38;5;66;03m# Binary mode does not support 'encoding' and 'newline'.\u001b[39;00m\n\u001b[0;32m    871\u001b[0m     \u001b[38;5;28;01mif\u001b[39;00m ioargs\u001b[38;5;241m.\u001b[39mencoding \u001b[38;5;129;01mand\u001b[39;00m \u001b[38;5;124m\"\u001b[39m\u001b[38;5;124mb\u001b[39m\u001b[38;5;124m\"\u001b[39m \u001b[38;5;129;01mnot\u001b[39;00m \u001b[38;5;129;01min\u001b[39;00m ioargs\u001b[38;5;241m.\u001b[39mmode:\n\u001b[0;32m    872\u001b[0m         \u001b[38;5;66;03m# Encoding\u001b[39;00m\n\u001b[1;32m--> 873\u001b[0m         handle \u001b[38;5;241m=\u001b[39m \u001b[38;5;28;43mopen\u001b[39;49m\u001b[43m(\u001b[49m\n\u001b[0;32m    874\u001b[0m \u001b[43m            \u001b[49m\u001b[43mhandle\u001b[49m\u001b[43m,\u001b[49m\n\u001b[0;32m    875\u001b[0m \u001b[43m            \u001b[49m\u001b[43mioargs\u001b[49m\u001b[38;5;241;43m.\u001b[39;49m\u001b[43mmode\u001b[49m\u001b[43m,\u001b[49m\n\u001b[0;32m    876\u001b[0m \u001b[43m            \u001b[49m\u001b[43mencoding\u001b[49m\u001b[38;5;241;43m=\u001b[39;49m\u001b[43mioargs\u001b[49m\u001b[38;5;241;43m.\u001b[39;49m\u001b[43mencoding\u001b[49m\u001b[43m,\u001b[49m\n\u001b[0;32m    877\u001b[0m \u001b[43m            \u001b[49m\u001b[43merrors\u001b[49m\u001b[38;5;241;43m=\u001b[39;49m\u001b[43merrors\u001b[49m\u001b[43m,\u001b[49m\n\u001b[0;32m    878\u001b[0m \u001b[43m            \u001b[49m\u001b[43mnewline\u001b[49m\u001b[38;5;241;43m=\u001b[39;49m\u001b[38;5;124;43m\"\u001b[39;49m\u001b[38;5;124;43m\"\u001b[39;49m\u001b[43m,\u001b[49m\n\u001b[0;32m    879\u001b[0m \u001b[43m        \u001b[49m\u001b[43m)\u001b[49m\n\u001b[0;32m    880\u001b[0m     \u001b[38;5;28;01melse\u001b[39;00m:\n\u001b[0;32m    881\u001b[0m         \u001b[38;5;66;03m# Binary mode\u001b[39;00m\n\u001b[0;32m    882\u001b[0m         handle \u001b[38;5;241m=\u001b[39m \u001b[38;5;28mopen\u001b[39m(handle, ioargs\u001b[38;5;241m.\u001b[39mmode)\n",
      "\u001b[1;31mFileNotFoundError\u001b[0m: [Errno 2] No such file or directory: '/datasets/games.csv'"
     ]
    }
   ],
   "source": [
    "#Carga el dataframe\n",
    "df_ice=pd.read_csv('/datasets/games.csv' , sep=',')\n"
   ]
  },
  {
   "cell_type": "markdown",
   "metadata": {},
   "source": [
    "###  Estudio de la informacicón general del dataframe"
   ]
  },
  {
   "cell_type": "code",
   "execution_count": null,
   "metadata": {
    "trusted": true
   },
   "outputs": [
    {
     "name": "stdout",
     "output_type": "stream",
     "text": [
      "<class 'pandas.core.frame.DataFrame'>\n",
      "RangeIndex: 16715 entries, 0 to 16714\n",
      "Data columns (total 11 columns):\n",
      " #   Column           Non-Null Count  Dtype  \n",
      "---  ------           --------------  -----  \n",
      " 0   Name             16713 non-null  object \n",
      " 1   Platform         16715 non-null  object \n",
      " 2   Year_of_Release  16446 non-null  float64\n",
      " 3   Genre            16713 non-null  object \n",
      " 4   NA_sales         16715 non-null  float64\n",
      " 5   EU_sales         16715 non-null  float64\n",
      " 6   JP_sales         16715 non-null  float64\n",
      " 7   Other_sales      16715 non-null  float64\n",
      " 8   Critic_Score     8137 non-null   float64\n",
      " 9   User_Score       10014 non-null  object \n",
      " 10  Rating           9949 non-null   object \n",
      "dtypes: float64(6), object(5)\n",
      "memory usage: 1.4+ MB\n"
     ]
    }
   ],
   "source": [
    "#Ejecución de info\n",
    "df_ice.info()"
   ]
  },
  {
   "cell_type": "code",
   "execution_count": null,
   "metadata": {
    "trusted": true
   },
   "outputs": [
    {
     "name": "stdout",
     "output_type": "stream",
     "text": [
      "                        Name Platform  Year_of_Release         Genre  \\\n",
      "0                 Wii Sports      Wii           2006.0        Sports   \n",
      "1          Super Mario Bros.      NES           1985.0      Platform   \n",
      "2             Mario Kart Wii      Wii           2008.0        Racing   \n",
      "3          Wii Sports Resort      Wii           2009.0        Sports   \n",
      "4   Pokemon Red/Pokemon Blue       GB           1996.0  Role-Playing   \n",
      "5                     Tetris       GB           1989.0        Puzzle   \n",
      "6      New Super Mario Bros.       DS           2006.0      Platform   \n",
      "7                   Wii Play      Wii           2006.0          Misc   \n",
      "8  New Super Mario Bros. Wii      Wii           2009.0      Platform   \n",
      "9                  Duck Hunt      NES           1984.0       Shooter   \n",
      "\n",
      "   NA_sales  EU_sales  JP_sales  Other_sales  Critic_Score User_Score Rating  \n",
      "0     41.36     28.96      3.77         8.45          76.0          8      E  \n",
      "1     29.08      3.58      6.81         0.77           NaN        NaN    NaN  \n",
      "2     15.68     12.76      3.79         3.29          82.0        8.3      E  \n",
      "3     15.61     10.93      3.28         2.95          80.0          8      E  \n",
      "4     11.27      8.89     10.22         1.00           NaN        NaN    NaN  \n",
      "5     23.20      2.26      4.22         0.58           NaN        NaN    NaN  \n",
      "6     11.28      9.14      6.50         2.88          89.0        8.5      E  \n",
      "7     13.96      9.18      2.93         2.84          58.0        6.6      E  \n",
      "8     14.44      6.94      4.70         2.24          87.0        8.4      E  \n",
      "9     26.93      0.63      0.28         0.47           NaN        NaN    NaN  \n"
     ]
    }
   ],
   "source": [
    "#Muestra de datos\n",
    "print(df_ice.head(10))\n"
   ]
  },
  {
   "cell_type": "code",
   "execution_count": null,
   "metadata": {
    "trusted": true
   },
   "outputs": [
    {
     "name": "stdout",
     "output_type": "stream",
     "text": [
      "Name                  2\n",
      "Platform              0\n",
      "Year_of_Release     269\n",
      "Genre                 2\n",
      "NA_sales              0\n",
      "EU_sales              0\n",
      "JP_sales              0\n",
      "Other_sales           0\n",
      "Critic_Score       8578\n",
      "User_Score         6701\n",
      "Rating             6766\n",
      "dtype: int64\n"
     ]
    }
   ],
   "source": [
    "#Consultado valores ausentes\n",
    "print(df_ice.isna().sum())"
   ]
  },
  {
   "cell_type": "markdown",
   "metadata": {},
   "source": [
    "## Preparación los datos"
   ]
  },
  {
   "cell_type": "markdown",
   "metadata": {},
   "source": [
    "### Reemplaza los nombres de las columnas (ponlos en minúsculas)."
   ]
  },
  {
   "cell_type": "code",
   "execution_count": null,
   "metadata": {
    "trusted": true
   },
   "outputs": [
    {
     "name": "stdout",
     "output_type": "stream",
     "text": [
      "Index(['name', 'platform', 'year_of_release', 'genre', 'na_sales', 'eu_sales',\n",
      "       'jp_sales', 'other_sales', 'critic_score', 'user_score', 'rating'],\n",
      "      dtype='object')\n"
     ]
    }
   ],
   "source": [
    "#Cambiando a minúsculas y quitando espacios al inico y fin y eliminando espacios intermedios por guiones bajos si fuera el caso\n",
    "new_col_names = []\n",
    "for old_name in df_ice.columns:\n",
    "\tname_stripped = old_name.strip()\n",
    "\tname_lowered = name_stripped.lower()\n",
    "\tname_no_spaces = name_lowered.replace(' ', '_')\n",
    "\tnew_col_names.append(name_no_spaces)\n",
    "\n",
    "df_ice.columns = new_col_names\n",
    "print(df_ice.columns)"
   ]
  },
  {
   "cell_type": "markdown",
   "metadata": {},
   "source": [
    "### Convierte los valores ausentes"
   ]
  },
  {
   "cell_type": "code",
   "execution_count": null,
   "metadata": {
    "trusted": true
   },
   "outputs": [],
   "source": [
    "#Cambiar los valores ausentes a 0 en year_of_release\n",
    "df_ice['year_of_release'] = df_ice['year_of_release'].fillna(0)\n",
    "#Cambiar los valores ausentes a 0 en critic_score\n",
    "df_ice['critic_score'] = df_ice['critic_score'].fillna(0)\n",
    "#Cambiar los valores ausentes a 0 en user_score\n",
    "df_ice['user_score'] = df_ice['user_score'].fillna(0)\n",
    "#Cambiar los valores ausentes a - en rating\n",
    "df_ice['rating'] = df_ice['rating'].fillna('-')\n",
    "#Cambiar los valores ausentes a Misc en rating\n",
    "df_ice['genre'] = df_ice['genre'].fillna('Misc')"
   ]
  },
  {
   "cell_type": "markdown",
   "metadata": {},
   "source": [
    "### Tratamiento de los valores ausentes"
   ]
  },
  {
   "cell_type": "markdown",
   "metadata": {},
   "source": [
    "Se realizó el reemplazo de los valores ausentes debido a que es necesario realizar algunos cálculos en los que es mejor tener un 0 a tener letras, así como en el campo rating que agregamos '-' a efecto de indicar que ese campo no cuenta con un valor."
   ]
  },
  {
   "cell_type": "markdown",
   "metadata": {},
   "source": [
    "### Convierte los datos en los tipos necesarios"
   ]
  },
  {
   "cell_type": "code",
   "execution_count": null,
   "metadata": {
    "trusted": true
   },
   "outputs": [
    {
     "name": "stdout",
     "output_type": "stream",
     "text": [
      "\n",
      "<class 'pandas.core.frame.DataFrame'>\n",
      "RangeIndex: 16715 entries, 0 to 16714\n",
      "Data columns (total 11 columns):\n",
      " #   Column           Non-Null Count  Dtype  \n",
      "---  ------           --------------  -----  \n",
      " 0   name             16713 non-null  object \n",
      " 1   platform         16715 non-null  object \n",
      " 2   year_of_release  16715 non-null  int64  \n",
      " 3   genre            16715 non-null  object \n",
      " 4   na_sales         16715 non-null  float64\n",
      " 5   eu_sales         16715 non-null  float64\n",
      " 6   jp_sales         16715 non-null  float64\n",
      " 7   other_sales      16715 non-null  float64\n",
      " 8   critic_score     16715 non-null  float64\n",
      " 9   user_score       16715 non-null  float64\n",
      " 10  rating           16715 non-null  object \n",
      "dtypes: float64(6), int64(1), object(4)\n",
      "memory usage: 1.4+ MB\n"
     ]
    }
   ],
   "source": [
    "\n",
    "# Se reemplazó tbd por 0 para dejar un valor homologado a números flotantes para que podamos realizar cálculos con los valores convirtiéndolos a float posteriormente\n",
    "df_ice['user_score'] = df_ice['user_score'].replace('tbd', 0)\n",
    "#Cambiando user_score a float\n",
    "df_ice['user_score'] = df_ice['user_score'].astype(float)\n",
    "\n",
    "#Cambiar a int year_of_release\n",
    "df_ice['year_of_release'] = df_ice['year_of_release'].astype(int)\n",
    "print()\n",
    "df_ice.info()\n"
   ]
  },
  {
   "cell_type": "markdown",
   "metadata": {},
   "source": [
    "### Revisando si existen valores duplicados"
   ]
  },
  {
   "cell_type": "code",
   "execution_count": null,
   "metadata": {
    "trusted": true
   },
   "outputs": [
    {
     "name": "stdout",
     "output_type": "stream",
     "text": [
      "Total de duplicados:  0\n"
     ]
    }
   ],
   "source": [
    "df_ice_duplicated = df_ice.duplicated().sum()\n",
    "print(\"Total de duplicados: \" ,df_ice_duplicated)"
   ]
  },
  {
   "cell_type": "markdown",
   "metadata": {},
   "source": [
    "### Describe las columnas en las que los tipos de datos han sido cambiados y explica por qué."
   ]
  },
  {
   "cell_type": "markdown",
   "metadata": {},
   "source": [
    "Con la finalidad de contar con datos limpios y en los formatos correctos para realizar cálculos se realizaron los siguientes cambios:\n",
    "- year_of_release: Se modificó el tipo de dato a entero debido a que se mostraba flotante, por ejemplo 2008.0 y no es correcto para mostrar gráficamente estos resultados.\n",
    "- user_score se cambio de object a float para poder hacer cálculos con estos valores, previamente fue necesario cambiar los 'tbd' a 0 para aplicar el cambio a float.\n"
   ]
  },
  {
   "cell_type": "markdown",
   "metadata": {},
   "source": [
    "### ¿Por qué crees que los valores están ausentes? Brinda explicaciones posibles."
   ]
  },
  {
   "cell_type": "markdown",
   "metadata": {},
   "source": [
    "Los valores ausentes pueden deberse a que los videojuegos no han sido calificados, no se han vendido tanto como se esperaba, o simplemente no fueron tan buenos y no se ha considerado necesario generar un análisis de los videojuegos menos populares."
   ]
  },
  {
   "cell_type": "markdown",
   "metadata": {},
   "source": [
    "### Presta atención a la abreviatura TBD: significa \"to be determined\" (a determinar). Especifica cómo piensas manejar estos casos."
   ]
  },
  {
   "cell_type": "markdown",
   "metadata": {},
   "source": [
    "Se realizó el reemplazo de los valores 'tbd' a 0 a efecto de cambiar el tipo de dato de la columna user_score y contar con valores que se puedan sumar, o agrupar con facilidad"
   ]
  },
  {
   "cell_type": "markdown",
   "metadata": {},
   "source": [
    "### Calcula las ventas totales (la suma de las ventas en todas las regiones) para cada juego y coloca estos valores en una columna separada."
   ]
  },
  {
   "cell_type": "code",
   "execution_count": null,
   "metadata": {
    "trusted": true
   },
   "outputs": [
    {
     "name": "stdout",
     "output_type": "stream",
     "text": [
      "\n",
      "                       name platform  year_of_release         genre  na_sales  \\\n",
      "0                Wii Sports      Wii             2006        Sports     41.36   \n",
      "1         Super Mario Bros.      NES             1985      Platform     29.08   \n",
      "2            Mario Kart Wii      Wii             2008        Racing     15.68   \n",
      "3         Wii Sports Resort      Wii             2009        Sports     15.61   \n",
      "4  Pokemon Red/Pokemon Blue       GB             1996  Role-Playing     11.27   \n",
      "\n",
      "   eu_sales  jp_sales  other_sales  critic_score  user_score rating  \\\n",
      "0     28.96      3.77         8.45          76.0         8.0      E   \n",
      "1      3.58      6.81         0.77           0.0         0.0      -   \n",
      "2     12.76      3.79         3.29          82.0         8.3      E   \n",
      "3     10.93      3.28         2.95          80.0         8.0      E   \n",
      "4      8.89     10.22         1.00           0.0         0.0      -   \n",
      "\n",
      "   total_sales  \n",
      "0        82.54  \n",
      "1        40.24  \n",
      "2        35.52  \n",
      "3        32.77  \n",
      "4        31.38  \n"
     ]
    }
   ],
   "source": [
    "#Calcula las ventas\n",
    "#Ventas totales de cada juego y agregarlas a una nueva columna\n",
    "df_ice['total_sales'] = df_ice[['na_sales', 'eu_sales', 'jp_sales', 'other_sales']].sum(axis=1)\n",
    "#print(\"Muestra con el nuevo campo total_sales\")\n",
    "print()\n",
    "print(df_ice.head())"
   ]
  },
  {
   "cell_type": "code",
   "execution_count": null,
   "metadata": {
    "trusted": true
   },
   "outputs": [
    {
     "data": {
      "image/png": "[encoded data removed]",
      "text/plain": [
       "<Figure size 1000x600 with 1 Axes>"
      ]
     },
     "metadata": {},
     "output_type": "display_data"
    }
   ],
   "source": [
    "#Gráfica de líneas ventas por año\n",
    "#Filtrar año distinto a 0\n",
    "df_ice = df_ice[df_ice['year_of_release'] != 0]\n",
    "# Agrupar por año de lanzamiento y sumar las ventas totales\n",
    "sales_by_year = df_ice.groupby('year_of_release')['total_sales'].sum().reset_index()\n",
    "\n",
    "# Crear el gráfico de líneas\n",
    "plt.figure(figsize=(10, 6))\n",
    "plt.plot(sales_by_year['year_of_release'], sales_by_year['total_sales'], marker='o')\n",
    "plt.title('Total Sales by Year of Release')\n",
    "plt.xlabel('Year of Release')\n",
    "plt.ylabel('Total Sales (in millions)')\n",
    "plt.xticks(sales_by_year['year_of_release'], rotation=45)\n",
    "\n",
    "# Ajustar el eje x para que no empiece en 0\n",
    "plt.xlim(left=sales_by_year['year_of_release'].min())  # Comienza en el año más bajo\n",
    "\n",
    "plt.grid()\n",
    "plt.tight_layout()\n",
    "plt.show()"
   ]
  },
  {
   "cell_type": "markdown",
   "metadata": {},
   "source": [
    "Analizando la gráfica anterior, podemos observar que en el periodo comprendido de 1980 a 1995, las ventas eran menores a 100 millones, a partir del 1996 se observa un crecimiento de ventas a partir de 200 millones, encontrando en el año 2008 de mayores ventas, con una cifra cercana a los 700 millones. Por último, a partir del 2012 y hasta 2016 se observa una caida importante en las ventas de aproximadamente 350 millones y llegando de nueva cuenta casi a los 100 millones."
   ]
  },
  {
   "cell_type": "markdown",
   "metadata": {},
   "source": [
    "##  Analizando los datos"
   ]
  },
  {
   "cell_type": "markdown",
   "metadata": {},
   "source": [
    "### Mira cuántos juegos fueron lanzados en diferentes años. ¿Son significativos los datos de cada período?"
   ]
  },
  {
   "cell_type": "code",
   "execution_count": null,
   "metadata": {
    "trusted": true
   },
   "outputs": [
    {
     "data": {
      "image/png": "[encoded data removed]",
      "text/plain": [
       "<Figure size 1200x600 with 1 Axes>"
      ]
     },
     "metadata": {},
     "output_type": "display_data"
    }
   ],
   "source": [
    "\n",
    "# Agrupar por año de lanzamiento y contar el número de juegos\n",
    "df_year_of_release = df_ice.groupby('year_of_release').agg({\n",
    "    'name': 'count'  # Contar el número de juegos por año\n",
    "}).rename(columns={'name': 'number_of_games'})\n",
    "# Mostrar el resultado\n",
    "plt.figure(figsize=(12, 6))\n",
    "df_year_of_release['number_of_games'].plot(kind='bar', color='skyblue')\n",
    "\n",
    "# Añadir títulos y etiquetas\n",
    "plt.title('Number of games released per year', fontsize=16)\n",
    "plt.xlabel('Year of release', fontsize=14)\n",
    "plt.ylabel('Number of games release', fontsize=14)\n",
    "plt.xticks(rotation=45)\n",
    "plt.grid(axis='y')\n",
    "\n",
    "# Mostrar la gráfica\n",
    "plt.tight_layout()\n",
    "plt.show()"
   ]
  },
  {
   "cell_type": "markdown",
   "metadata": {},
   "source": [
    "Revisando la gráfica anterior respectoa los juegos lanzados por año, podemos observar que existen 269 videojuegos que no cuentan con año de lanzamiento. Adicionalmente, podemos observar que en el periodo comprendido de 1980 a 1993 el crecimiento de lanzamientos por año era mínimo con un máximo de 60. Entre 1994 y 2004 se observa un crecimiento de lanzamientos de entre 120 y 800, pero a partirde 2005 a 2011 se lanzaron al mercado la mayor cantidad de videojuegos entre 936 hasta 1,427."
   ]
  },
  {
   "cell_type": "markdown",
   "metadata": {},
   "source": [
    "### Observa cómo varían las ventas de una plataforma a otra. Elige las plataformas con las mayores ventas totales y construye una distribución basada en los datos de cada año. Busca las plataformas que solían ser populares pero que ahora no tienen ventas. ¿Cuánto tardan generalmente las nuevas plataformas en aparecer y las antiguas en desaparecer?"
   ]
  },
  {
   "cell_type": "markdown",
   "metadata": {},
   "source": [
    "### Cálculo de ventas totales por plataformas"
   ]
  },
  {
   "cell_type": "code",
   "execution_count": null,
   "metadata": {
    "trusted": true
   },
   "outputs": [
    {
     "name": "stdout",
     "output_type": "stream",
     "text": [
      "\n"
     ]
    },
    {
     "data": {
      "image/png": "[encoded data removed]",
      "text/plain": [
       "<Figure size 1000x600 with 1 Axes>"
      ]
     },
     "metadata": {},
     "output_type": "display_data"
    }
   ],
   "source": [
    "# 1. Calcular las ventas totales por plataforma\n",
    "platform_sales = df_ice.groupby('platform')['total_sales'].sum().sort_values(ascending=False)\n",
    "# Crear la gráfica de barras\n",
    "print()\n",
    "plt.figure(figsize=(10, 6))\n",
    "platform_sales.plot(kind='bar', color='skyblue')\n",
    "# Añadir títulos y etiquetas\n",
    "plt.title('Total sales by platform', fontsize=12)\n",
    "plt.xlabel('Platform', fontsize=10)\n",
    "plt.ylabel('Total sales (in millions)', fontsize=10)\n",
    "plt.xticks(rotation=45)\n",
    "plt.grid(axis='y')\n",
    "# Mostrar la gráfica\n",
    "plt.tight_layout()\n",
    "plt.show()"
   ]
  },
  {
   "cell_type": "markdown",
   "metadata": {},
   "source": [
    "Observando la gráfica de barras anterior, podemos concluir que las 5 plataformas que han generado los mayores ingresos son las siguientes:\n",
    "1. PS2\n",
    "2. X360\n",
    "3. PS3\n",
    "4. Wii\n",
    "5. DS"
   ]
  },
  {
   "cell_type": "markdown",
   "metadata": {},
   "source": [
    "### Plataformas con mayores ventas"
   ]
  },
  {
   "cell_type": "code",
   "execution_count": null,
   "metadata": {
    "trusted": true
   },
   "outputs": [
    {
     "data": {
      "image/png": "[encoded data removed]",
      "text/plain": [
       "<Figure size 1200x600 with 1 Axes>"
      ]
     },
     "metadata": {},
     "output_type": "display_data"
    }
   ],
   "source": [
    "# 2. Identificar las plataformas con mayores ventas\n",
    "top_platforms = platform_sales.head(10)\n",
    "# Crear la gráfica de barras para las 10 plataformas\n",
    "plt.figure(figsize=(12, 6))\n",
    "top_platforms.plot(kind='bar', color='lightcoral')\n",
    "# Añadir títulos y etiquetas\n",
    "plt.title('Top ten platforms with the highest sales', fontsize=16)\n",
    "plt.xlabel('Platform', fontsize=14)\n",
    "plt.ylabel('Total sales (in millions)', fontsize=14)\n",
    "plt.xticks(rotation=45)\n",
    "plt.grid(axis='y')\n",
    "# Mostrar la gráfica\n",
    "plt.tight_layout()\n",
    "plt.show()"
   ]
  },
  {
   "cell_type": "markdown",
   "metadata": {},
   "source": [
    "En el top ten de plataformas con mayores ventas, encontramos plataformas fijas y portátiles lo que muestra la relación entre los años con mayores ventas y el mayor número de videojuegos lanzados a partir de la década del año 2000. "
   ]
  },
  {
   "cell_type": "markdown",
   "metadata": {},
   "source": [
    "### Distribución de ventas por años"
   ]
  },
  {
   "cell_type": "code",
   "execution_count": null,
   "metadata": {
    "trusted": true
   },
   "outputs": [
    {
     "data": {
      "text/plain": [
       "<Figure size 1400x700 with 0 Axes>"
      ]
     },
     "metadata": {},
     "output_type": "display_data"
    },
    {
     "data": {
      "image/png": "[encoded data removed]",
      "text/plain": [
       "<Figure size 640x480 with 1 Axes>"
      ]
     },
     "metadata": {},
     "output_type": "display_data"
    }
   ],
   "source": [
    "# 3. Construir una distribución de ventas por año\n",
    "# Obtener las 10 plataformas con más ventas\n",
    "top_platforms = platform_sales.head(10).index\n",
    "\n",
    "# Agrupar por año de lanzamiento y plataforma, y sumar las ventas totales\n",
    "sales_distribution = df_ice.groupby(['year_of_release', 'platform'])['total_sales'].sum().unstack(fill_value=0)\n",
    "\n",
    "# Filtrar para incluir solo las plataformas del top 10\n",
    "sales_distribution_top10 = sales_distribution[top_platforms]\n",
    "\n",
    "# Crear la gráfica de distribución de ventas por años para las 10 plataformas\n",
    "plt.figure(figsize=(14, 7))\n",
    "sales_distribution_top10.plot(kind='line', marker='o')\n",
    "\n",
    "# Añadir títulos y etiquetas\n",
    "plt.title('Sales Distribution by Year for the Top 10 Platforms', fontsize=12)\n",
    "plt.xlabel('Year of release', fontsize=10)\n",
    "plt.ylabel('Total sales', fontsize=10)\n",
    "plt.xticks(rotation=45)\n",
    "plt.legend(title='Platform')\n",
    "plt.grid()\n",
    "\n",
    "# Ajustar el eje x para que no empiece en 0\n",
    "plt.xlim(left=sales_by_year['year_of_release'].min())  # Comienza en el año más bajo\n",
    "\n",
    "# Mostrar la gráfica\n",
    "plt.tight_layout()\n",
    "plt.show()"
   ]
  },
  {
   "cell_type": "markdown",
   "metadata": {},
   "source": [
    "Analizando la gráfica anterior podemos observar que la mayoría de los juegos tiene un pico de ventas de aproximadamente  5 años, siendo el de mayores ventas el PS2. Sin embargo, el Xbox 360, es el que se ha mantenido por un mayor periodo con ventas entre 50 millones hasta 170 millones, entre los años 2005 al 2014. "
   ]
  },
  {
   "cell_type": "markdown",
   "metadata": {},
   "source": [
    "### Busca las plataformas que solían ser populares pero que ahora no tienen ventas. ¿Cuánto tardan generalmente las nuevas plataformas en aparecer y las antiguas en desaparecer?"
   ]
  },
  {
   "cell_type": "markdown",
   "metadata": {},
   "source": [
    "Las plataformas que solían ser populares pero que ahora no tienen ventas son: \n",
    "    - Las plataformas 2600, DC, SNES, GBA, GEN y SAT tuvieron ventas altas en su momento, pero hoy en día no tienen ventas, esto se debe al cambio generacional que generaron los avances tecnológicos, creando consolas con mayores prestaciones y con juegos de mejor calidad gráfica, si bien quedarán como grandes clásicos algunas de esas consolas, el poderío de las nuevas plataformas estaba destinao a dominar el mercado.\n",
    "    \n",
    "La plataformas antiguas tardan entre 5 y 13 años en desaparecer y las nuevas tardan aproximadamente entre 4 y 7 años en desaparecer."
   ]
  },
  {
   "cell_type": "markdown",
   "metadata": {},
   "source": [
    "### Determina para qué período debes tomar datos. Para hacerlo mira tus respuestas a las preguntas anteriores. Los datos deberían permitirte construir un modelo para 2017."
   ]
  },
  {
   "cell_type": "markdown",
   "metadata": {},
   "source": [
    "Se observa que podemos obtener datos de los años 2012 a 2016, a efecto de generar una proyección para el año 2017. De acuerdo al comportamiento de los ventas, plataformas y usuarios de esos años más cercanos, toda vez que "
   ]
  },
  {
   "cell_type": "markdown",
   "metadata": {},
   "source": [
    "Trabaja solo con los datos que consideras relevantes. Ignora los datos de años anteriores."
   ]
  },
  {
   "cell_type": "markdown",
   "metadata": {},
   "source": [
    "### ¿Qué plataformas son líderes en ventas? ¿Cuáles crecen y cuáles se reducen? Elige varias plataformas potencialmente rentables."
   ]
  },
  {
   "cell_type": "code",
   "execution_count": null,
   "metadata": {
    "trusted": true
   },
   "outputs": [
    {
     "name": "stdout",
     "output_type": "stream",
     "text": [
      "Muestra de las plataformas con mayores ventas\n",
      "Index(['PS2', 'X360', 'PS3', 'Wii', 'DS', 'PS', 'PS4', 'GBA', 'PSP', '3DS'], dtype='object', name='platform')\n"
     ]
    }
   ],
   "source": [
    "print(\"Muestra de las plataformas con mayores ventas\")\n",
    "print(top_platforms)"
   ]
  },
  {
   "cell_type": "markdown",
   "metadata": {},
   "source": [
    "### Crea un diagrama de caja para las ventas globales de todos los juegos, desglosados por plataforma. ¿Son significativas las diferencias en las ventas? ¿Qué sucede con las ventas promedio en varias plataformas? Describe tus hallazgos."
   ]
  },
  {
   "cell_type": "code",
   "execution_count": null,
   "metadata": {
    "trusted": true
   },
   "outputs": [
    {
     "data": {
      "image/png": "[encoded data removed]",
      "text/plain": [
       "<Figure size 1400x800 with 1 Axes>"
      ]
     },
     "metadata": {},
     "output_type": "display_data"
    }
   ],
   "source": [
    "plt.figure(figsize=(14, 8))\n",
    "sns.boxplot(x='platform', y='total_sales', data=df_ice)\n",
    "plt.title('Diagrama de Caja de Ventas Globales por Plataforma')\n",
    "plt.xlabel('Plataforma')\n",
    "plt.ylabel('Ventas Globales (millones)')\n",
    "plt.xticks(rotation=45)\n",
    "plt.grid(axis='y')\n",
    "plt.show()"
   ]
  },
  {
   "cell_type": "markdown",
   "metadata": {},
   "source": [
    "### Mira cómo las reseñas de usuarios y profesionales afectan las ventas de una plataforma popular (tu elección). Crea un gráfico de dispersión y calcula la correlación entre las reseñas y las ventas. Saca conclusiones."
   ]
  },
  {
   "cell_type": "markdown",
   "metadata": {},
   "source": []
  },
  {
   "cell_type": "code",
   "execution_count": null,
   "metadata": {
    "trusted": true
   },
   "outputs": [
    {
     "data": {
      "image/png": "[encoded data removed]",
      "text/plain": [
       "<Figure size 1400x600 with 2 Axes>"
      ]
     },
     "metadata": {},
     "output_type": "display_data"
    },
    {
     "name": "stdout",
     "output_type": "stream",
     "text": [
      "Correlación entre la puntuación de críticos y las ventas: 0.08\n",
      "Correlación entre la puntuación de usuarios y las ventas: 0.01\n"
     ]
    }
   ],
   "source": [
    "df_pc = df_ice[df_ice['platform'] == 'PC']\n",
    "\n",
    "# 1. Crear gráficos de dispersión\n",
    "plt.figure(figsize=(14, 6))\n",
    "\n",
    "# Gráfico de dispersión para las reseñas de críticos vs. ventas\n",
    "plt.subplot(1, 2, 1)\n",
    "sns.scatterplot(x='critic_score', y='total_sales', data=df_pc)\n",
    "plt.title('Críticas vs Ventas (PC)')\n",
    "plt.xlabel('Puntuación de Críticos')\n",
    "plt.ylabel('Ventas Totales (millones)')\n",
    "\n",
    "# Gráfico de dispersión para las reseñas de usuarios vs. ventas\n",
    "plt.subplot(1, 2, 2)\n",
    "sns.scatterplot(x='user_score', y='total_sales', data=df_pc)\n",
    "plt.title('Reseñas de Usuarios vs Ventas (PC)')\n",
    "plt.xlabel('Puntuación de Usuarios')\n",
    "plt.ylabel('Ventas Totales (millones)')\n",
    "\n",
    "plt.tight_layout()\n",
    "plt.show()\n",
    "\n",
    "# 2. Calcular la correlación\n",
    "critic_corr = df_pc['critic_score'].corr(df_pc['total_sales'])\n",
    "user_corr = df_pc['user_score'].corr(df_pc['total_sales'])\n",
    "\n",
    "print(f'Correlación entre la puntuación de críticos y las ventas: {critic_corr:.2f}')\n",
    "print(f'Correlación entre la puntuación de usuarios y las ventas: {user_corr:.2f}')"
   ]
  },
  {
   "cell_type": "markdown",
   "metadata": {},
   "source": [
    "Podemos concluir que las puntuaciones emitidas por los expertos y los usuarios no tienen un impacto negativo en las ventas, existe un correlación muy baja. Por lo anterior, podemos concluir que los usuarios no toman en cuenta las puntuaciones de expertos y de otros usuarios a la hora de comprar un videojuego."
   ]
  },
  {
   "cell_type": "markdown",
   "metadata": {},
   "source": [
    "### Teniendo en cuenta tus conclusiones compara las ventas de los mismos juegos en otras plataformas."
   ]
  },
  {
   "cell_type": "markdown",
   "metadata": {},
   "source": [
    "### Echa un vistazo a la distribución general de los juegos por género. ¿Qué se puede decir de los géneros más rentables? ¿Puedes generalizar acerca de los géneros con ventas altas y bajas?"
   ]
  },
  {
   "cell_type": "code",
   "execution_count": null,
   "metadata": {
    "trusted": true
   },
   "outputs": [
    {
     "name": "stdout",
     "output_type": "stream",
     "text": [
      "\n"
     ]
    },
    {
     "data": {
      "image/png": "[encoded data removed]",
      "text/plain": [
       "<Figure size 1200x600 with 1 Axes>"
      ]
     },
     "metadata": {},
     "output_type": "display_data"
    }
   ],
   "source": [
    "# Distribución de juegos por género\n",
    "df_game_genre = df_ice.groupby('genre')['total_sales'].sum().sort_values(ascending=False)\n",
    "print()\n",
    "# Crear la gráfica de barras\n",
    "plt.figure(figsize=(12, 6))\n",
    "df_game_genre.plot(kind='bar', color='lightcoral')\n",
    "\n",
    "# Añadir títulos y etiquetas\n",
    "plt.title('Ventas Totales por Género de Juego', fontsize=16)\n",
    "plt.xlabel('Género', fontsize=14)\n",
    "plt.ylabel('Ventas Totales', fontsize=14)\n",
    "plt.xticks(rotation=45)\n",
    "plt.grid(axis='y')\n",
    "\n",
    "# Mostrar la gráfica\n",
    "plt.tight_layout()\n",
    "plt.show()"
   ]
  },
  {
   "cell_type": "markdown",
   "metadata": {},
   "source": [
    "Los géneros más rentables son:\n",
    "- Action\n",
    "- Sports\n",
    "- Shooter <br>\n",
    "Son rentables toda vez que tiene mayores ventas y se han encontrado vigentes por varios años.\n",
    "<br> "
   ]
  },
  {
   "cell_type": "markdown",
   "metadata": {},
   "source": [
    "## crea un perfil de usuario para cada región</b>"
   ]
  },
  {
   "cell_type": "markdown",
   "metadata": {},
   "source": [
    "Para cada región (NA, UE, JP) determina:\n",
    "\n",
    "Las cinco plataformas principales. Describe las variaciones en sus cuotas de mercado de una región a otra.\n",
    "Los cinco géneros principales. Explica la diferencia.\n",
    "Si las clasificaciones de ESRB afectan a las ventas en regiones individuales."
   ]
  },
  {
   "cell_type": "markdown",
   "metadata": {},
   "source": [
    "### Plataformas principales por región"
   ]
  },
  {
   "cell_type": "code",
   "execution_count": null,
   "metadata": {
    "trusted": true
   },
   "outputs": [
    {
     "name": "stdout",
     "output_type": "stream",
     "text": [
      "Top 5 plataformas en NA:\n",
      "   platform  na_sales\n",
      "28     X360    595.74\n",
      "16      PS2    572.92\n",
      "26      Wii    486.87\n",
      "17      PS3    390.13\n",
      "4        DS    380.31\n",
      "\n",
      "Top 5 plataformas en EU:\n",
      "   platform  eu_sales\n",
      "16      PS2    332.63\n",
      "17      PS3    327.21\n",
      "28     X360    268.32\n",
      "26      Wii    258.32\n",
      "15       PS    212.39\n",
      "\n",
      "Top 5 plataformas en JP:\n",
      "   platform  jp_sales\n",
      "4        DS    175.02\n",
      "15       PS    139.78\n",
      "16      PS2    137.54\n",
      "23     SNES    116.55\n",
      "2       3DS    100.62\n"
     ]
    }
   ],
   "source": [
    "#Obteniendo las 5 plataformas principales\n",
    "na_sales = df_ice.groupby('platform')['na_sales'].sum().reset_index()\n",
    "eu_sales = df_ice.groupby('platform')['eu_sales'].sum().reset_index()\n",
    "jp_sales = df_ice.groupby('platform')['jp_sales'].sum().reset_index()\n",
    "\n",
    "#Usamos nlargest para traer las 5 principales plataformas\n",
    "top_na_platforms = na_sales.nlargest(5, 'na_sales')\n",
    "top_eu_platforms = eu_sales.nlargest(5, 'eu_sales')\n",
    "top_jp_platforms = jp_sales.nlargest(5, 'jp_sales')\n",
    "\n",
    "#Imprimimos el resultado de cada región\n",
    "print(\"Top 5 plataformas en NA:\")\n",
    "print(top_na_platforms)\n",
    "\n",
    "print(\"\\nTop 5 plataformas en EU:\")\n",
    "print(top_eu_platforms)\n",
    "\n",
    "print(\"\\nTop 5 plataformas en JP:\")\n",
    "print(top_jp_platforms)"
   ]
  },
  {
   "cell_type": "markdown",
   "metadata": {},
   "source": [
    "### Describe las variaciones en sus cuotas de mercado de una región a otra."
   ]
  },
  {
   "cell_type": "code",
   "execution_count": null,
   "metadata": {
    "trusted": true
   },
   "outputs": [
    {
     "data": {
      "image/png": "[encoded data removed]",
      "text/plain": [
       "<Figure size 800x500 with 1 Axes>"
      ]
     },
     "metadata": {},
     "output_type": "display_data"
    }
   ],
   "source": [
    "# Calcular las ventas totales por región\n",
    "total_na_sales = df_ice['na_sales'].sum()\n",
    "total_eu_sales = df_ice['eu_sales'].sum()\n",
    "total_jp_sales = df_ice['jp_sales'].sum()\n",
    "\n",
    "# Calcular las cuotas de mercado\n",
    "market_share = {\n",
    "    'Region': ['NA', 'EU', 'JP'],\n",
    "    'Sales': [total_na_sales, total_eu_sales, total_jp_sales]\n",
    "}\n",
    "\n",
    "market_share_df = pd.DataFrame(market_share)\n",
    "\n",
    "# Calcular la cuota de mercado como porcentaje\n",
    "market_share_df['Market Share (%)'] = (market_share_df['Sales'] / market_share_df['Sales'].sum()) * 100\n",
    "\n",
    "# Crear la gráfica\n",
    "plt.figure(figsize=(8, 5))\n",
    "\n",
    "# Crear las barras\n",
    "plt.bar(market_share_df['Region'], market_share_df['Market Share (%)'], color=['blue', 'green', 'red'])\n",
    "\n",
    "# Añadir título y etiquetas\n",
    "plt.title('Cuotas de Mercado de Ventas de Videojuegos por Región')\n",
    "plt.xlabel('Regiones')\n",
    "plt.ylabel('Cuota de Mercado (%)')\n",
    "plt.ylim(0, 100)  # Establecer límites en el eje y\n",
    "\n",
    "# Mostrar la gráfica\n",
    "plt.tight_layout()\n",
    "plt.show()"
   ]
  },
  {
   "cell_type": "markdown",
   "metadata": {},
   "source": [
    "\n",
    "\n",
    "En el análisis de las cuotas de mercado de videojuegos, se observa que América del Norte (NA) mantiene una participación significativa, mientras que Europa (EU) se sitúa en un 27.3%. Por otro lado, Japón (JP) ha experimentado una disminución en su cuota de mercado en comparación con años anteriores, reflejando un cambio en las preferencias de los consumidores y la competencia global."
   ]
  },
  {
   "cell_type": "markdown",
   "metadata": {},
   "source": [
    "### Si las clasificaciones de ESRB afectan a las ventas en regiones individuales."
   ]
  },
  {
   "cell_type": "code",
   "execution_count": null,
   "metadata": {
    "trusted": true
   },
   "outputs": [
    {
     "name": "stdout",
     "output_type": "stream",
     "text": [
      "  rating  na_sales  eu_sales  jp_sales\n",
      "0      -   1227.62    610.18    836.77\n",
      "1     AO      1.26      0.61      0.00\n",
      "2      E   1274.24    703.87    197.96\n",
      "3   E10+    345.50    183.35     40.20\n",
      "4     EC      1.53      0.11      0.00\n",
      "5    K-A      2.56      0.27      1.46\n",
      "6      M    742.89    480.00     63.58\n",
      "7     RP      0.00      0.03      0.00\n",
      "8      T    747.60    421.79    150.70\n"
     ]
    }
   ],
   "source": [
    "# Agrupar por 'rating' y sumar las ventas por región\n",
    "sales_rating = df_ice.groupby('rating').agg({\n",
    "    'na_sales': 'sum',\n",
    "    'eu_sales': 'sum',\n",
    "    'jp_sales': 'sum'\n",
    "}).reset_index()\n",
    "\n",
    "# Mostrar resultados\n",
    "print(sales_rating)"
   ]
  },
  {
   "cell_type": "markdown",
   "metadata": {},
   "source": [
    "Las clasificaciones influyen en las ventas por regiones individuales, ya que se observa que al menos en la clasificación AO (Adultos únicamente + 18) no se compran en la región de Japón, así como la clasificación M, que también puede contener escenas delicadas y por temas culturales, es probable que este contenido tenga menores ventas en dicha región."
   ]
  },
  {
   "cell_type": "markdown",
   "metadata": {},
   "source": [
    "### Los 5 géneros principales por región"
   ]
  },
  {
   "cell_type": "code",
   "execution_count": null,
   "metadata": {
    "trusted": true
   },
   "outputs": [
    {
     "name": "stdout",
     "output_type": "stream",
     "text": [
      "Top 5 géneros en NA:\n",
      "       genre  na_sales\n",
      "0     Action    863.17\n",
      "10    Sports    671.20\n",
      "8    Shooter    584.83\n",
      "4   Platform    444.44\n",
      "3       Misc    401.35\n",
      "\n",
      "Top 5 géneros en EU:\n",
      "      genre  eu_sales\n",
      "0    Action    510.99\n",
      "10   Sports    371.33\n",
      "8   Shooter    314.52\n",
      "6    Racing    234.49\n",
      "3      Misc    211.13\n",
      "\n",
      "Top 5 géneros en JP:\n",
      "           genre  jp_sales\n",
      "7   Role-Playing    353.39\n",
      "0         Action    160.14\n",
      "10        Sports    134.93\n",
      "4       Platform    130.71\n",
      "3           Misc    107.05\n"
     ]
    }
   ],
   "source": [
    "# Agrupar por género y sumar las ventas\n",
    "na_sales = df_ice.groupby('genre')['na_sales'].sum().reset_index()\n",
    "eu_sales = df_ice.groupby('genre')['eu_sales'].sum().reset_index()\n",
    "jp_sales = df_ice.groupby('genre')['jp_sales'].sum().reset_index()\n",
    "\n",
    "# Obtener los 5 géneros principales por región\n",
    "top_na_genres = na_sales.nlargest(5, 'na_sales')\n",
    "top_eu_genres = eu_sales.nlargest(5, 'eu_sales')\n",
    "top_jp_genres = jp_sales.nlargest(5, 'jp_sales')\n",
    "\n",
    "# Imprimir los resultados\n",
    "print(\"Top 5 géneros en NA:\")\n",
    "print(top_na_genres)\n",
    "\n",
    "print(\"\\nTop 5 géneros en EU:\")\n",
    "print(top_eu_genres)\n",
    "\n",
    "print(\"\\nTop 5 géneros en JP:\")\n",
    "print(top_jp_genres)"
   ]
  },
  {
   "cell_type": "markdown",
   "metadata": {},
   "source": [
    "Los géneros de videojuegos pueden variar entre regiones. Por ejemplo, los juegos de rol pueden ser más populares en Japón, mientras que los shooters y de acción pueden tener un mejor aceptación en América del Norte.\n",
    "\n",
    "Las cifras de ventas en cada región indican no solo la popularidad de ciertos géneros, sino también la efectividad de las estrategias de marketing y distribución de las plataformas.\n",
    "\n",
    "Las diferencias en las ventas pueden reflejar tendencias culturales y de consumo, donde ciertos géneros o plataformas se alinean mejor con las preferencias locales."
   ]
  },
  {
   "cell_type": "markdown",
   "metadata": {},
   "source": [
    "## Prueba de hipótesis"
   ]
  },
  {
   "cell_type": "markdown",
   "metadata": {},
   "source": [
    "\n",
    "\n",
    "— Las calificaciones promedio de los usuarios para las plataformas Xbox One y PC son las mismas.\n",
    "\n",
    "— Las calificaciones promedio de los usuarios para los géneros de Acción y Deportes son diferentes.\n",
    "\n",
    "Establece tu mismo el valor de umbral alfa.\n",
    "\n",
    "Explica:\n",
    "\n",
    "— Cómo formulaste las hipótesis nula y alternativa.\n",
    "\n",
    "— Qué criterio utilizaste para probar las hipótesis y por qué."
   ]
  },
  {
   "cell_type": "markdown",
   "metadata": {},
   "source": [
    "### Probando la hipótesis 1. Las calificaciones promedio de los usuarios para las plataformas Xbox One y PC son las mismas"
   ]
  },
  {
   "cell_type": "code",
   "execution_count": null,
   "metadata": {
    "trusted": true
   },
   "outputs": [
    {
     "name": "stdout",
     "output_type": "stream",
     "text": [
      "Calificación promedio Xbox One: 4.805263157894737\n",
      "Calificación promedio PC: 5.5745036572622775\n",
      "Estadístico t: -3.445790627024438, Valor p: 0.0006312657449613953\n",
      "Rechazamos la hipótesis nula: hay una diferencia significativa en las calificaciones promedio.\n"
     ]
    }
   ],
   "source": [
    "# Filtrar los datos para Xbox One y PC\n",
    "xbox_one_scores = df_ice[df_ice['platform'] == 'XOne']['user_score']\n",
    "pc_scores = df_ice[df_ice['platform'] == 'PC']['user_score']\n",
    "\n",
    "# Calculando las medias\n",
    "mean_xbox_one_scores = xbox_one_scores.mean()\n",
    "mean_pc_scores = pc_scores.mean()\n",
    "\n",
    "# Realizar la prueba t\n",
    "t_stat, p_value = st.ttest_ind(xbox_one_scores.dropna(), pc_scores.dropna(), equal_var=False)\n",
    "\n",
    "\n",
    "# Resultados\n",
    "print(f\"Calificación promedio Xbox One: {mean_xbox_one_scores}\")\n",
    "print(f\"Calificación promedio PC: {mean_pc_scores}\")\n",
    "print(f\"Estadístico t: {t_stat}, Valor p: {p_value}\")\n",
    "\n",
    "# Interpretación\n",
    "alpha = 0.05  # Nivel de significancia\n",
    "if p_value < alpha:\n",
    "    print(\"Rechazamos la hipótesis nula: hay una diferencia significativa en las calificaciones promedio.\")\n",
    "else:\n",
    "    print(\"No rechazamos la hipótesis nula: no hay una diferencia significativa en las calificaciones promedio.\")\n",
    "    \n",
    "    "
   ]
  },
  {
   "cell_type": "markdown",
   "metadata": {},
   "source": [
    "### Probando la hipótesis 2. Las calificaciones promedio de los usuarios para los géneros de Acción y Deportes son diferentes."
   ]
  },
  {
   "cell_type": "code",
   "execution_count": null,
   "metadata": {
    "trusted": true
   },
   "outputs": [
    {
     "name": "stdout",
     "output_type": "stream",
     "text": [
      "Calificación promedio Acción: 3.833202298155427\n",
      "Calificación promedio Deportes: 3.2586730268863833\n",
      "Estadístico t: 5.796040314377794, Valor p: 7.207560019739062e-09\n",
      "Rechazamos la hipótesis nula: hay una diferencia significativa en las calificaciones promedio entre Acción y Deportes.\n"
     ]
    }
   ],
   "source": [
    "# Filtrar los datos para Acción y deportes\n",
    "action_scores = df_ice[df_ice['genre'] == 'Action']['user_score']\n",
    "sports_scores = df_ice[df_ice['genre'] == 'Sports']['user_score']\n",
    "\n",
    "# Calculando las medias\n",
    "mean_action_scores = action_scores.mean()\n",
    "mean_sports_scores = sports_scores.mean()\n",
    "\n",
    "# Realizar la prueba t\n",
    "t_stat, p_value = st.ttest_ind(action_scores.dropna(), sports_scores.dropna(), equal_var=False)\n",
    "\n",
    "\n",
    "# Resultados\n",
    "print(f\"Calificación promedio Acción: {mean_action_scores}\")\n",
    "print(f\"Calificación promedio Deportes: {mean_sports_scores}\")\n",
    "print(f\"Estadístico t: {t_stat}, Valor p: {p_value}\")\n",
    "\n",
    "# Interpretación\n",
    "alpha = 0.05 \n",
    "if p_value < alpha:\n",
    "    print(\"Rechazamos la hipótesis nula: hay una diferencia significativa en las calificaciones promedio entre Acción y Deportes.\")\n",
    "else:\n",
    "    print(\"No rechazamos la hipótesis nula: no hay una diferencia significativa en las calificaciones promedio entre Acción y Deportes.\")\n",
    "    "
   ]
  },
  {
   "cell_type": "markdown",
   "metadata": {},
   "source": [
    "## Conclusión general."
   ]
  },
  {
   "cell_type": "markdown",
   "metadata": {},
   "source": [
    "Derivado del análisis de los datos de la compañía de videojuegos online Ice, podemos concluir lo siguiente:\n",
    "\n",
    "La distribución de videojuegos por regiones se debe a los generos en los que se clasifican, es decir, en cada una de las regiones tienen mayores ventas diferentes géneros. \n",
    "\n",
    "Los más rentables son los generos:\n",
    "- Action\n",
    "- Sports\n",
    "- Shooter\n",
    "\n",
    "Se observa que no hay una relación entre las calificaciones otorgadas a los videojuegos respecto a las ventas, ya que podemos ver en las gráficas de dispersión que a pesar de que hay videojuegos con calificaciones muy altas, no tienen ventas tan altas como se esperaría.\n",
    "\n",
    "Por otro lado, observamos que las plataformas también tienen diferente aceptación de acuerdo a la región.\n",
    "\n",
    "En el análisis de las cuotas de mercado de videojuegos, se observa que América del Norte (NA) mantiene una participación significativa, mientras que Europa (EU) se sitúa en un 27.3%. Por otro lado, Japón (JP) ha experimentado una disminución en su cuota de mercado en comparación con años anteriores, reflejando un cambio en las preferencias de los consumidores y la competencia global.\n",
    "\n"
   ]
  }
 ],
 "metadata": {
  "ExecuteTimeLog": [
   {
    "duration": 8,
    "start_time": "2024-11-13T00:54:42.787Z"
   },
   {
    "duration": 2624,
    "start_time": "2024-11-13T01:05:35.035Z"
   },
   {
    "duration": 35,
    "start_time": "2024-11-13T01:06:34.114Z"
   },
   {
    "duration": 3,
    "start_time": "2024-11-13T01:10:05.508Z"
   },
   {
    "duration": 22,
    "start_time": "2024-11-13T01:10:06.716Z"
   },
   {
    "duration": 11,
    "start_time": "2024-11-13T01:10:38.335Z"
   },
   {
    "duration": 16,
    "start_time": "2024-11-13T01:11:45.138Z"
   },
   {
    "duration": 11,
    "start_time": "2024-11-13T01:12:25.970Z"
   },
   {
    "duration": 7,
    "start_time": "2024-11-13T01:12:33.402Z"
   },
   {
    "duration": 6,
    "start_time": "2024-11-13T01:13:20.021Z"
   },
   {
    "duration": 7,
    "start_time": "2024-11-13T01:16:23.342Z"
   },
   {
    "duration": 7,
    "start_time": "2024-11-13T01:18:09.798Z"
   },
   {
    "duration": 4,
    "start_time": "2024-11-13T01:25:01.084Z"
   },
   {
    "duration": 212,
    "start_time": "2024-11-13T01:25:41.389Z"
   },
   {
    "duration": 12,
    "start_time": "2024-11-13T01:26:05.717Z"
   },
   {
    "duration": 13,
    "start_time": "2024-11-13T01:26:30.626Z"
   },
   {
    "duration": 13,
    "start_time": "2024-11-13T01:26:37.469Z"
   },
   {
    "duration": 13,
    "start_time": "2024-11-13T01:28:52.086Z"
   },
   {
    "duration": 13,
    "start_time": "2024-11-13T01:29:32.853Z"
   },
   {
    "duration": 3,
    "start_time": "2024-11-13T01:29:40.845Z"
   },
   {
    "duration": 24,
    "start_time": "2024-11-13T01:29:41.288Z"
   },
   {
    "duration": 13,
    "start_time": "2024-11-13T01:29:41.568Z"
   },
   {
    "duration": 6,
    "start_time": "2024-11-13T01:29:41.754Z"
   },
   {
    "duration": 6,
    "start_time": "2024-11-13T01:29:41.869Z"
   },
   {
    "duration": 12,
    "start_time": "2024-11-13T01:29:45.181Z"
   },
   {
    "duration": 15,
    "start_time": "2024-11-13T01:30:18.375Z"
   },
   {
    "duration": 4,
    "start_time": "2024-11-13T01:32:24.778Z"
   },
   {
    "duration": 4,
    "start_time": "2024-11-13T01:33:23.773Z"
   },
   {
    "duration": 2486,
    "start_time": "2024-11-14T22:18:37.569Z"
   },
   {
    "duration": 35,
    "start_time": "2024-11-14T22:18:40.057Z"
   },
   {
    "duration": 11,
    "start_time": "2024-11-14T22:18:42.415Z"
   },
   {
    "duration": 4,
    "start_time": "2024-11-14T22:19:58.700Z"
   },
   {
    "duration": 664,
    "start_time": "2024-11-14T22:24:39.062Z"
   },
   {
    "duration": 4,
    "start_time": "2024-11-14T22:24:49.969Z"
   },
   {
    "duration": 42,
    "start_time": "2024-11-14T22:24:52.849Z"
   },
   {
    "duration": 642,
    "start_time": "2024-11-14T22:25:11.918Z"
   },
   {
    "duration": 59,
    "start_time": "2024-11-14T22:26:59.622Z"
   },
   {
    "duration": 3,
    "start_time": "2024-11-14T22:27:18.051Z"
   },
   {
    "duration": 3,
    "start_time": "2024-11-14T22:28:13.732Z"
   },
   {
    "duration": 49,
    "start_time": "2024-11-14T22:28:21.386Z"
   },
   {
    "duration": 6,
    "start_time": "2024-11-14T22:47:26.860Z"
   },
   {
    "duration": 5,
    "start_time": "2024-11-14T22:47:33.056Z"
   },
   {
    "duration": 6,
    "start_time": "2024-11-14T23:13:35.629Z"
   },
   {
    "duration": 7,
    "start_time": "2024-11-14T23:14:59.527Z"
   },
   {
    "duration": 7,
    "start_time": "2024-11-14T23:15:36.535Z"
   },
   {
    "duration": 6,
    "start_time": "2024-11-14T23:21:17.307Z"
   },
   {
    "duration": 3,
    "start_time": "2024-11-14T23:21:20.154Z"
   },
   {
    "duration": 4,
    "start_time": "2024-11-14T23:21:33.688Z"
   },
   {
    "duration": 11,
    "start_time": "2024-11-14T23:21:51.657Z"
   },
   {
    "duration": 7,
    "start_time": "2024-11-14T23:22:56.482Z"
   },
   {
    "duration": 12,
    "start_time": "2024-11-14T23:23:05.197Z"
   },
   {
    "duration": 11,
    "start_time": "2024-11-14T23:27:58.314Z"
   },
   {
    "duration": 3,
    "start_time": "2024-11-14T23:31:18.002Z"
   },
   {
    "duration": 6,
    "start_time": "2024-11-14T23:31:25.257Z"
   },
   {
    "duration": 12,
    "start_time": "2024-11-14T23:40:14.791Z"
   },
   {
    "duration": 9,
    "start_time": "2024-11-14T23:40:57.541Z"
   },
   {
    "duration": 10,
    "start_time": "2024-11-14T23:41:17.827Z"
   },
   {
    "duration": 3,
    "start_time": "2024-11-14T23:42:56.994Z"
   },
   {
    "duration": 11,
    "start_time": "2024-11-14T23:46:37.424Z"
   },
   {
    "duration": 10,
    "start_time": "2024-11-14T23:47:44.599Z"
   },
   {
    "duration": 9,
    "start_time": "2024-11-14T23:47:52.984Z"
   },
   {
    "duration": 114,
    "start_time": "2024-11-14T23:53:53.337Z"
   },
   {
    "duration": 23,
    "start_time": "2024-11-14T23:55:04.820Z"
   },
   {
    "duration": 2505,
    "start_time": "2024-11-15T17:22:07.258Z"
   },
   {
    "duration": 35,
    "start_time": "2024-11-15T17:22:09.765Z"
   },
   {
    "duration": 11,
    "start_time": "2024-11-15T17:22:09.802Z"
   },
   {
    "duration": 7,
    "start_time": "2024-11-15T17:22:09.815Z"
   },
   {
    "duration": 7,
    "start_time": "2024-11-15T17:22:09.823Z"
   },
   {
    "duration": 4,
    "start_time": "2024-11-15T17:22:09.832Z"
   },
   {
    "duration": 6,
    "start_time": "2024-11-15T17:22:09.837Z"
   },
   {
    "duration": 767,
    "start_time": "2024-11-15T17:22:09.845Z"
   },
   {
    "duration": 0,
    "start_time": "2024-11-15T17:22:10.613Z"
   },
   {
    "duration": 5,
    "start_time": "2024-11-15T17:22:19.790Z"
   },
   {
    "duration": 120,
    "start_time": "2024-11-15T17:22:22.227Z"
   },
   {
    "duration": 48,
    "start_time": "2024-11-15T17:22:40.656Z"
   },
   {
    "duration": 14,
    "start_time": "2024-11-15T17:22:52.177Z"
   },
   {
    "duration": 10,
    "start_time": "2024-11-15T17:22:58.396Z"
   },
   {
    "duration": 10,
    "start_time": "2024-11-15T17:23:18.358Z"
   },
   {
    "duration": 10,
    "start_time": "2024-11-15T17:23:34.718Z"
   },
   {
    "duration": 17,
    "start_time": "2024-11-15T17:33:58.518Z"
   },
   {
    "duration": 125,
    "start_time": "2024-11-15T17:34:08.603Z"
   },
   {
    "duration": 34,
    "start_time": "2024-11-15T17:34:56.470Z"
   },
   {
    "duration": 361,
    "start_time": "2024-11-15T17:35:04.591Z"
   },
   {
    "duration": 32,
    "start_time": "2024-11-15T17:35:11.915Z"
   },
   {
    "duration": 205,
    "start_time": "2024-11-15T17:35:26.162Z"
   },
   {
    "duration": 4,
    "start_time": "2024-11-15T17:35:27.450Z"
   },
   {
    "duration": 33,
    "start_time": "2024-11-15T17:35:31.705Z"
   },
   {
    "duration": 33,
    "start_time": "2024-11-15T17:35:43.292Z"
   },
   {
    "duration": 3,
    "start_time": "2024-11-15T17:36:09.787Z"
   },
   {
    "duration": 25,
    "start_time": "2024-11-15T17:36:10.043Z"
   },
   {
    "duration": 11,
    "start_time": "2024-11-15T17:36:10.316Z"
   },
   {
    "duration": 7,
    "start_time": "2024-11-15T17:36:10.483Z"
   },
   {
    "duration": 7,
    "start_time": "2024-11-15T17:36:10.620Z"
   },
   {
    "duration": 4,
    "start_time": "2024-11-15T17:36:11.110Z"
   },
   {
    "duration": 5,
    "start_time": "2024-11-15T17:36:11.420Z"
   },
   {
    "duration": 13,
    "start_time": "2024-11-15T17:36:12.160Z"
   },
   {
    "duration": 11,
    "start_time": "2024-11-15T17:36:13.024Z"
   },
   {
    "duration": 10,
    "start_time": "2024-11-15T17:36:15.294Z"
   },
   {
    "duration": 6,
    "start_time": "2024-11-15T17:38:30.681Z"
   },
   {
    "duration": 15,
    "start_time": "2024-11-15T17:41:10.023Z"
   },
   {
    "duration": 7,
    "start_time": "2024-11-15T17:41:39.991Z"
   },
   {
    "duration": 13,
    "start_time": "2024-11-15T17:50:25.084Z"
   },
   {
    "duration": 12,
    "start_time": "2024-11-15T17:50:47.055Z"
   },
   {
    "duration": 10,
    "start_time": "2024-11-15T17:50:48.167Z"
   },
   {
    "duration": 11,
    "start_time": "2024-11-15T17:50:52.472Z"
   },
   {
    "duration": 7,
    "start_time": "2024-11-15T17:50:55.828Z"
   },
   {
    "duration": 6,
    "start_time": "2024-11-15T17:52:24.450Z"
   },
   {
    "duration": 13,
    "start_time": "2024-11-15T17:52:26.302Z"
   },
   {
    "duration": 12,
    "start_time": "2024-11-15T17:52:27.629Z"
   },
   {
    "duration": 12,
    "start_time": "2024-11-15T17:52:32.163Z"
   },
   {
    "duration": 7,
    "start_time": "2024-11-15T17:56:18.620Z"
   },
   {
    "duration": 16,
    "start_time": "2024-11-15T17:58:42.321Z"
   },
   {
    "duration": 16,
    "start_time": "2024-11-15T17:59:01.656Z"
   },
   {
    "duration": 16,
    "start_time": "2024-11-15T18:00:38.297Z"
   },
   {
    "duration": 21,
    "start_time": "2024-11-15T18:01:09.490Z"
   },
   {
    "duration": 37,
    "start_time": "2024-11-15T18:03:06.847Z"
   },
   {
    "duration": 20,
    "start_time": "2024-11-15T18:03:27.893Z"
   },
   {
    "duration": 25,
    "start_time": "2024-11-15T18:07:58.187Z"
   },
   {
    "duration": 26,
    "start_time": "2024-11-15T18:23:35.837Z"
   },
   {
    "duration": 23,
    "start_time": "2024-11-15T18:24:53.894Z"
   },
   {
    "duration": 4,
    "start_time": "2024-11-15T18:37:26.077Z"
   },
   {
    "duration": 7,
    "start_time": "2024-11-15T18:42:43.164Z"
   },
   {
    "duration": 6,
    "start_time": "2024-11-15T18:42:57.596Z"
   },
   {
    "duration": 6,
    "start_time": "2024-11-15T18:43:11.362Z"
   },
   {
    "duration": 6,
    "start_time": "2024-11-15T18:48:01.998Z"
   },
   {
    "duration": 7,
    "start_time": "2024-11-15T18:48:28.411Z"
   },
   {
    "duration": 6,
    "start_time": "2024-11-15T18:55:50.624Z"
   },
   {
    "duration": 7,
    "start_time": "2024-11-15T18:56:18.450Z"
   },
   {
    "duration": 5,
    "start_time": "2024-11-15T19:00:09.332Z"
   },
   {
    "duration": 26,
    "start_time": "2024-11-15T19:02:58.112Z"
   },
   {
    "duration": 416,
    "start_time": "2024-11-15T19:03:28.927Z"
   },
   {
    "duration": 18,
    "start_time": "2024-11-15T19:10:56.552Z"
   },
   {
    "duration": 428,
    "start_time": "2024-11-15T19:11:09.927Z"
   },
   {
    "duration": 2493,
    "start_time": "2024-11-18T01:53:53.755Z"
   },
   {
    "duration": 43,
    "start_time": "2024-11-18T01:53:56.251Z"
   },
   {
    "duration": 12,
    "start_time": "2024-11-18T01:53:56.297Z"
   },
   {
    "duration": 8,
    "start_time": "2024-11-18T01:53:56.312Z"
   },
   {
    "duration": 7,
    "start_time": "2024-11-18T01:53:56.323Z"
   },
   {
    "duration": 11,
    "start_time": "2024-11-18T01:53:56.332Z"
   },
   {
    "duration": 29,
    "start_time": "2024-11-18T01:53:56.345Z"
   },
   {
    "duration": 13,
    "start_time": "2024-11-18T01:53:56.797Z"
   },
   {
    "duration": 11,
    "start_time": "2024-11-18T01:53:57.521Z"
   },
   {
    "duration": 12,
    "start_time": "2024-11-18T01:53:58.933Z"
   },
   {
    "duration": 6,
    "start_time": "2024-11-18T01:53:59.472Z"
   },
   {
    "duration": 24,
    "start_time": "2024-11-18T01:54:00.011Z"
   },
   {
    "duration": 4,
    "start_time": "2024-11-18T01:54:01.280Z"
   },
   {
    "duration": 456,
    "start_time": "2024-11-18T01:54:01.786Z"
   },
   {
    "duration": 378,
    "start_time": "2024-11-18T01:54:02.244Z"
   },
   {
    "duration": 6,
    "start_time": "2024-11-18T01:54:48.563Z"
   },
   {
    "duration": 10,
    "start_time": "2024-11-18T01:59:13.237Z"
   },
   {
    "duration": 9,
    "start_time": "2024-11-18T02:01:46.003Z"
   },
   {
    "duration": 11,
    "start_time": "2024-11-18T02:02:41.410Z"
   },
   {
    "duration": 15,
    "start_time": "2024-11-18T02:02:53.057Z"
   },
   {
    "duration": 270,
    "start_time": "2024-11-18T02:07:53.627Z"
   },
   {
    "duration": 7,
    "start_time": "2024-11-18T02:09:38.826Z"
   },
   {
    "duration": 234,
    "start_time": "2024-11-18T02:09:56.085Z"
   },
   {
    "duration": 10,
    "start_time": "2024-11-18T02:10:40.282Z"
   },
   {
    "duration": 6,
    "start_time": "2024-11-18T02:11:59.877Z"
   },
   {
    "duration": 199,
    "start_time": "2024-11-18T02:12:19.192Z"
   },
   {
    "duration": 176,
    "start_time": "2024-11-18T02:14:01.940Z"
   },
   {
    "duration": 15,
    "start_time": "2024-11-18T02:14:43.035Z"
   },
   {
    "duration": 178,
    "start_time": "2024-11-18T02:14:44.511Z"
   },
   {
    "duration": 10,
    "start_time": "2024-11-18T02:16:15.629Z"
   },
   {
    "duration": 15,
    "start_time": "2024-11-18T02:17:59.394Z"
   },
   {
    "duration": 10,
    "start_time": "2024-11-18T02:22:39.423Z"
   },
   {
    "duration": 22,
    "start_time": "2024-11-18T02:25:01.891Z"
   },
   {
    "duration": 23,
    "start_time": "2024-11-18T02:25:13.062Z"
   },
   {
    "duration": 25,
    "start_time": "2024-11-18T02:25:24.291Z"
   },
   {
    "duration": 12,
    "start_time": "2024-11-18T02:25:45.561Z"
   },
   {
    "duration": 12,
    "start_time": "2024-11-18T02:26:05.352Z"
   },
   {
    "duration": 372,
    "start_time": "2024-11-18T02:36:31.957Z"
   },
   {
    "duration": 11,
    "start_time": "2024-11-18T02:36:52.742Z"
   },
   {
    "duration": 7,
    "start_time": "2024-11-18T02:38:20.651Z"
   },
   {
    "duration": 24,
    "start_time": "2024-11-18T02:38:20.977Z"
   },
   {
    "duration": 10,
    "start_time": "2024-11-18T02:38:21.267Z"
   },
   {
    "duration": 7,
    "start_time": "2024-11-18T02:38:21.413Z"
   },
   {
    "duration": 10,
    "start_time": "2024-11-18T02:38:21.560Z"
   },
   {
    "duration": 4,
    "start_time": "2024-11-18T02:38:21.997Z"
   },
   {
    "duration": 6,
    "start_time": "2024-11-18T02:38:22.369Z"
   },
   {
    "duration": 14,
    "start_time": "2024-11-18T02:38:23.088Z"
   },
   {
    "duration": 9,
    "start_time": "2024-11-18T02:38:23.460Z"
   },
   {
    "duration": 13,
    "start_time": "2024-11-18T02:38:24.935Z"
   },
   {
    "duration": 8,
    "start_time": "2024-11-18T02:38:25.431Z"
   },
   {
    "duration": 24,
    "start_time": "2024-11-18T02:38:26.203Z"
   },
   {
    "duration": 4,
    "start_time": "2024-11-18T02:38:27.143Z"
   },
   {
    "duration": 413,
    "start_time": "2024-11-18T02:38:27.529Z"
   },
   {
    "duration": 363,
    "start_time": "2024-11-18T02:38:27.944Z"
   },
   {
    "duration": 6,
    "start_time": "2024-11-18T02:38:28.624Z"
   },
   {
    "duration": 15,
    "start_time": "2024-11-18T02:38:29.540Z"
   },
   {
    "duration": 185,
    "start_time": "2024-11-18T02:38:29.911Z"
   },
   {
    "duration": 15,
    "start_time": "2024-11-18T02:38:30.461Z"
   },
   {
    "duration": 10,
    "start_time": "2024-11-18T02:38:30.820Z"
   },
   {
    "duration": 45,
    "start_time": "2024-11-18T02:38:31.411Z"
   },
   {
    "duration": 49,
    "start_time": "2024-11-18T02:39:00.970Z"
   },
   {
    "duration": 8,
    "start_time": "2024-11-18T02:40:10.844Z"
   },
   {
    "duration": 19,
    "start_time": "2024-11-18T02:40:53.095Z"
   },
   {
    "duration": 8,
    "start_time": "2024-11-18T02:41:09.676Z"
   },
   {
    "duration": 9,
    "start_time": "2024-11-18T02:41:51.735Z"
   },
   {
    "duration": 8,
    "start_time": "2024-11-18T02:42:04.554Z"
   },
   {
    "duration": 8,
    "start_time": "2024-11-18T02:42:16.395Z"
   },
   {
    "duration": 20,
    "start_time": "2024-11-18T02:44:21.117Z"
   },
   {
    "duration": 21,
    "start_time": "2024-11-18T02:44:48.184Z"
   },
   {
    "duration": 9,
    "start_time": "2024-11-18T02:45:13.414Z"
   },
   {
    "duration": 9,
    "start_time": "2024-11-18T02:45:27.798Z"
   },
   {
    "duration": 10,
    "start_time": "2024-11-18T02:45:32.548Z"
   },
   {
    "duration": 9,
    "start_time": "2024-11-18T02:45:34.114Z"
   },
   {
    "duration": 8,
    "start_time": "2024-11-18T02:46:23.885Z"
   },
   {
    "duration": 9,
    "start_time": "2024-11-18T02:47:51.975Z"
   },
   {
    "duration": 8,
    "start_time": "2024-11-18T02:49:13.842Z"
   },
   {
    "duration": 7,
    "start_time": "2024-11-18T02:54:19.125Z"
   },
   {
    "duration": 10,
    "start_time": "2024-11-18T02:54:34.309Z"
   },
   {
    "duration": 9,
    "start_time": "2024-11-18T02:55:51.091Z"
   },
   {
    "duration": 9,
    "start_time": "2024-11-18T02:56:38.893Z"
   },
   {
    "duration": 9,
    "start_time": "2024-11-18T02:57:18.095Z"
   },
   {
    "duration": 9,
    "start_time": "2024-11-18T02:58:58.526Z"
   },
   {
    "duration": 9,
    "start_time": "2024-11-18T02:59:35.072Z"
   },
   {
    "duration": 10,
    "start_time": "2024-11-18T03:00:09.983Z"
   },
   {
    "duration": 3,
    "start_time": "2024-11-18T03:02:26.943Z"
   },
   {
    "duration": 22,
    "start_time": "2024-11-18T03:02:27.248Z"
   },
   {
    "duration": 10,
    "start_time": "2024-11-18T03:02:27.673Z"
   },
   {
    "duration": 7,
    "start_time": "2024-11-18T03:02:27.954Z"
   },
   {
    "duration": 7,
    "start_time": "2024-11-18T03:02:28.470Z"
   },
   {
    "duration": 4,
    "start_time": "2024-11-18T03:02:29.389Z"
   },
   {
    "duration": 7,
    "start_time": "2024-11-18T03:02:29.703Z"
   },
   {
    "duration": 14,
    "start_time": "2024-11-18T03:02:30.330Z"
   },
   {
    "duration": 10,
    "start_time": "2024-11-18T03:02:30.674Z"
   },
   {
    "duration": 13,
    "start_time": "2024-11-18T03:02:32.149Z"
   },
   {
    "duration": 8,
    "start_time": "2024-11-18T03:02:32.611Z"
   },
   {
    "duration": 25,
    "start_time": "2024-11-18T03:02:33.198Z"
   },
   {
    "duration": 4,
    "start_time": "2024-11-18T03:02:34.706Z"
   },
   {
    "duration": 509,
    "start_time": "2024-11-18T03:02:35.110Z"
   },
   {
    "duration": 364,
    "start_time": "2024-11-18T03:02:35.658Z"
   },
   {
    "duration": 6,
    "start_time": "2024-11-18T03:02:36.366Z"
   },
   {
    "duration": 16,
    "start_time": "2024-11-18T03:02:37.433Z"
   },
   {
    "duration": 195,
    "start_time": "2024-11-18T03:02:37.984Z"
   },
   {
    "duration": 16,
    "start_time": "2024-11-18T03:02:38.606Z"
   },
   {
    "duration": 10,
    "start_time": "2024-11-18T03:02:39.017Z"
   },
   {
    "duration": 9,
    "start_time": "2024-11-18T03:02:40.101Z"
   },
   {
    "duration": 9,
    "start_time": "2024-11-18T03:02:40.769Z"
   },
   {
    "duration": 333,
    "start_time": "2024-11-18T03:06:22.912Z"
   },
   {
    "duration": 10,
    "start_time": "2024-11-18T03:14:01.887Z"
   },
   {
    "duration": 9,
    "start_time": "2024-11-18T03:17:09.564Z"
   },
   {
    "duration": 8,
    "start_time": "2024-11-18T03:20:54.692Z"
   },
   {
    "duration": 3,
    "start_time": "2024-11-18T03:35:12.040Z"
   },
   {
    "duration": 21,
    "start_time": "2024-11-18T03:35:12.351Z"
   },
   {
    "duration": 11,
    "start_time": "2024-11-18T03:35:12.653Z"
   },
   {
    "duration": 7,
    "start_time": "2024-11-18T03:35:12.811Z"
   },
   {
    "duration": 7,
    "start_time": "2024-11-18T03:35:12.973Z"
   },
   {
    "duration": 4,
    "start_time": "2024-11-18T03:35:13.488Z"
   },
   {
    "duration": 8,
    "start_time": "2024-11-18T03:35:13.800Z"
   },
   {
    "duration": 13,
    "start_time": "2024-11-18T03:35:14.503Z"
   },
   {
    "duration": 9,
    "start_time": "2024-11-18T03:35:14.796Z"
   },
   {
    "duration": 12,
    "start_time": "2024-11-18T03:35:16.086Z"
   },
   {
    "duration": 7,
    "start_time": "2024-11-18T03:35:16.744Z"
   },
   {
    "duration": 24,
    "start_time": "2024-11-18T03:35:17.318Z"
   },
   {
    "duration": 4,
    "start_time": "2024-11-18T03:35:18.703Z"
   },
   {
    "duration": 402,
    "start_time": "2024-11-18T03:35:19.034Z"
   },
   {
    "duration": 363,
    "start_time": "2024-11-18T03:35:19.622Z"
   },
   {
    "duration": 6,
    "start_time": "2024-11-18T03:35:37.500Z"
   },
   {
    "duration": 15,
    "start_time": "2024-11-18T03:35:40.311Z"
   },
   {
    "duration": 176,
    "start_time": "2024-11-18T03:35:41.231Z"
   },
   {
    "duration": 9,
    "start_time": "2024-11-18T03:35:42.655Z"
   },
   {
    "duration": 15,
    "start_time": "2024-11-18T03:35:43.936Z"
   },
   {
    "duration": 8,
    "start_time": "2024-11-18T03:35:46.615Z"
   },
   {
    "duration": 8,
    "start_time": "2024-11-18T03:35:47.707Z"
   },
   {
    "duration": 806,
    "start_time": "2024-11-18T19:48:36.311Z"
   },
   {
    "duration": 33,
    "start_time": "2024-11-18T19:48:37.119Z"
   },
   {
    "duration": 10,
    "start_time": "2024-11-18T19:48:37.154Z"
   },
   {
    "duration": 9,
    "start_time": "2024-11-18T19:48:37.166Z"
   },
   {
    "duration": 7,
    "start_time": "2024-11-18T19:48:37.178Z"
   },
   {
    "duration": 4,
    "start_time": "2024-11-18T19:48:37.187Z"
   },
   {
    "duration": 7,
    "start_time": "2024-11-18T19:48:37.192Z"
   },
   {
    "duration": 41,
    "start_time": "2024-11-18T19:48:37.201Z"
   },
   {
    "duration": 9,
    "start_time": "2024-11-18T19:48:37.244Z"
   },
   {
    "duration": 11,
    "start_time": "2024-11-18T19:48:37.255Z"
   },
   {
    "duration": 7,
    "start_time": "2024-11-18T19:48:37.269Z"
   },
   {
    "duration": 54,
    "start_time": "2024-11-18T19:48:37.277Z"
   },
   {
    "duration": 4,
    "start_time": "2024-11-18T19:48:37.333Z"
   },
   {
    "duration": 529,
    "start_time": "2024-11-18T19:48:37.340Z"
   },
   {
    "duration": 328,
    "start_time": "2024-11-18T19:48:37.871Z"
   },
   {
    "duration": 0,
    "start_time": "2024-11-18T19:48:38.201Z"
   },
   {
    "duration": 0,
    "start_time": "2024-11-18T19:48:38.202Z"
   },
   {
    "duration": 0,
    "start_time": "2024-11-18T19:48:38.204Z"
   },
   {
    "duration": 0,
    "start_time": "2024-11-18T19:48:38.206Z"
   },
   {
    "duration": 0,
    "start_time": "2024-11-18T19:48:38.207Z"
   },
   {
    "duration": 0,
    "start_time": "2024-11-18T19:48:38.209Z"
   },
   {
    "duration": 0,
    "start_time": "2024-11-18T19:48:38.209Z"
   },
   {
    "duration": 809,
    "start_time": "2024-11-18T22:21:32.790Z"
   },
   {
    "duration": 34,
    "start_time": "2024-11-18T22:21:33.601Z"
   },
   {
    "duration": 11,
    "start_time": "2024-11-18T22:21:33.637Z"
   },
   {
    "duration": 8,
    "start_time": "2024-11-18T22:21:33.649Z"
   },
   {
    "duration": 6,
    "start_time": "2024-11-18T22:21:33.660Z"
   },
   {
    "duration": 4,
    "start_time": "2024-11-18T22:21:33.667Z"
   },
   {
    "duration": 8,
    "start_time": "2024-11-18T22:21:33.673Z"
   },
   {
    "duration": 43,
    "start_time": "2024-11-18T22:21:33.682Z"
   },
   {
    "duration": 12,
    "start_time": "2024-11-18T22:21:33.727Z"
   },
   {
    "duration": 12,
    "start_time": "2024-11-18T22:21:33.742Z"
   },
   {
    "duration": 7,
    "start_time": "2024-11-18T22:21:33.756Z"
   },
   {
    "duration": 49,
    "start_time": "2024-11-18T22:21:33.765Z"
   },
   {
    "duration": 4,
    "start_time": "2024-11-18T22:21:33.816Z"
   },
   {
    "duration": 501,
    "start_time": "2024-11-18T22:21:33.824Z"
   },
   {
    "duration": 333,
    "start_time": "2024-11-18T22:21:34.327Z"
   },
   {
    "duration": 0,
    "start_time": "2024-11-18T22:21:34.662Z"
   },
   {
    "duration": 0,
    "start_time": "2024-11-18T22:21:34.663Z"
   },
   {
    "duration": 0,
    "start_time": "2024-11-18T22:21:34.664Z"
   },
   {
    "duration": 0,
    "start_time": "2024-11-18T22:21:34.665Z"
   },
   {
    "duration": 0,
    "start_time": "2024-11-18T22:21:34.667Z"
   },
   {
    "duration": 0,
    "start_time": "2024-11-18T22:21:34.668Z"
   },
   {
    "duration": 0,
    "start_time": "2024-11-18T22:21:34.669Z"
   },
   {
    "duration": 3,
    "start_time": "2024-11-18T22:25:25.698Z"
   },
   {
    "duration": 24,
    "start_time": "2024-11-18T22:25:25.704Z"
   },
   {
    "duration": 10,
    "start_time": "2024-11-18T22:25:25.730Z"
   },
   {
    "duration": 6,
    "start_time": "2024-11-18T22:25:25.742Z"
   },
   {
    "duration": 6,
    "start_time": "2024-11-18T22:25:25.751Z"
   },
   {
    "duration": 5,
    "start_time": "2024-11-18T22:25:25.758Z"
   },
   {
    "duration": 6,
    "start_time": "2024-11-18T22:25:25.764Z"
   },
   {
    "duration": 42,
    "start_time": "2024-11-18T22:25:25.772Z"
   },
   {
    "duration": 9,
    "start_time": "2024-11-18T22:25:25.816Z"
   },
   {
    "duration": 12,
    "start_time": "2024-11-18T22:25:25.827Z"
   },
   {
    "duration": 7,
    "start_time": "2024-11-18T22:25:25.842Z"
   },
   {
    "duration": 25,
    "start_time": "2024-11-18T22:25:25.850Z"
   },
   {
    "duration": 35,
    "start_time": "2024-11-18T22:25:25.879Z"
   },
   {
    "duration": 444,
    "start_time": "2024-11-18T22:25:25.916Z"
   },
   {
    "duration": 109,
    "start_time": "2024-11-18T22:25:26.362Z"
   },
   {
    "duration": 0,
    "start_time": "2024-11-18T22:25:26.474Z"
   },
   {
    "duration": 0,
    "start_time": "2024-11-18T22:25:26.475Z"
   },
   {
    "duration": 0,
    "start_time": "2024-11-18T22:25:26.476Z"
   },
   {
    "duration": 0,
    "start_time": "2024-11-18T22:25:26.478Z"
   },
   {
    "duration": 0,
    "start_time": "2024-11-18T22:25:26.480Z"
   },
   {
    "duration": 0,
    "start_time": "2024-11-18T22:25:26.481Z"
   },
   {
    "duration": 0,
    "start_time": "2024-11-18T22:25:26.483Z"
   },
   {
    "duration": 7,
    "start_time": "2024-11-18T22:25:29.068Z"
   },
   {
    "duration": 19,
    "start_time": "2024-11-18T22:25:30.579Z"
   },
   {
    "duration": 243,
    "start_time": "2024-11-18T22:25:31.018Z"
   },
   {
    "duration": 8,
    "start_time": "2024-11-18T22:25:31.979Z"
   },
   {
    "duration": 16,
    "start_time": "2024-11-18T22:25:33.135Z"
   },
   {
    "duration": 10,
    "start_time": "2024-11-18T22:25:36.237Z"
   },
   {
    "duration": 9,
    "start_time": "2024-11-18T22:25:38.572Z"
   },
   {
    "duration": 172,
    "start_time": "2024-11-25T18:20:56.523Z"
   },
   {
    "duration": 2556,
    "start_time": "2024-11-25T18:21:06.761Z"
   },
   {
    "duration": 36,
    "start_time": "2024-11-25T18:21:09.318Z"
   },
   {
    "duration": 11,
    "start_time": "2024-11-25T18:21:09.356Z"
   },
   {
    "duration": 8,
    "start_time": "2024-11-25T18:21:09.369Z"
   },
   {
    "duration": 7,
    "start_time": "2024-11-25T18:21:09.378Z"
   },
   {
    "duration": 20,
    "start_time": "2024-11-25T18:21:09.386Z"
   },
   {
    "duration": 7,
    "start_time": "2024-11-25T18:21:09.407Z"
   },
   {
    "duration": 13,
    "start_time": "2024-11-25T18:21:09.417Z"
   },
   {
    "duration": 10,
    "start_time": "2024-11-25T18:21:09.644Z"
   },
   {
    "duration": 12,
    "start_time": "2024-11-25T18:21:10.965Z"
   },
   {
    "duration": 7,
    "start_time": "2024-11-25T18:21:11.583Z"
   },
   {
    "duration": 25,
    "start_time": "2024-11-25T18:21:12.053Z"
   },
   {
    "duration": 4,
    "start_time": "2024-11-25T18:21:13.264Z"
   },
   {
    "duration": 426,
    "start_time": "2024-11-25T18:21:13.567Z"
   },
   {
    "duration": 357,
    "start_time": "2024-11-25T18:21:14.034Z"
   },
   {
    "duration": 5,
    "start_time": "2024-11-25T18:21:15.165Z"
   },
   {
    "duration": 16,
    "start_time": "2024-11-25T18:21:16.004Z"
   },
   {
    "duration": 211,
    "start_time": "2024-11-25T18:21:16.301Z"
   },
   {
    "duration": 8,
    "start_time": "2024-11-25T18:21:17.037Z"
   },
   {
    "duration": 16,
    "start_time": "2024-11-25T18:21:17.581Z"
   },
   {
    "duration": 9,
    "start_time": "2024-11-25T18:21:18.633Z"
   },
   {
    "duration": 8,
    "start_time": "2024-11-25T18:21:19.646Z"
   },
   {
    "duration": 20,
    "start_time": "2024-11-25T18:23:15.168Z"
   },
   {
    "duration": 10,
    "start_time": "2024-11-25T18:24:49.931Z"
   },
   {
    "duration": 360,
    "start_time": "2024-11-25T18:28:33.634Z"
   },
   {
    "duration": 9,
    "start_time": "2024-11-25T18:29:47.138Z"
   },
   {
    "duration": 77,
    "start_time": "2024-11-25T18:30:11.775Z"
   },
   {
    "duration": 504,
    "start_time": "2024-11-25T18:30:21.870Z"
   },
   {
    "duration": 583,
    "start_time": "2024-11-25T18:31:28.000Z"
   },
   {
    "duration": 522,
    "start_time": "2024-11-25T18:33:08.444Z"
   },
   {
    "duration": 344,
    "start_time": "2024-11-25T18:35:27.494Z"
   },
   {
    "duration": 348,
    "start_time": "2024-11-25T18:36:52.914Z"
   },
   {
    "duration": 362,
    "start_time": "2024-11-25T18:39:37.164Z"
   },
   {
    "duration": 6,
    "start_time": "2024-11-25T18:40:31.098Z"
   },
   {
    "duration": 4,
    "start_time": "2024-11-25T18:46:25.178Z"
   },
   {
    "duration": 4,
    "start_time": "2024-11-25T18:46:38.115Z"
   },
   {
    "duration": 333,
    "start_time": "2024-11-25T18:51:34.603Z"
   },
   {
    "duration": 339,
    "start_time": "2024-11-25T18:52:36.396Z"
   },
   {
    "duration": 381,
    "start_time": "2024-11-25T18:54:07.752Z"
   },
   {
    "duration": 580,
    "start_time": "2024-11-25T18:54:46.440Z"
   },
   {
    "duration": 578,
    "start_time": "2024-11-25T18:55:58.437Z"
   },
   {
    "duration": 628,
    "start_time": "2024-11-25T18:57:40.351Z"
   },
   {
    "duration": 1157,
    "start_time": "2024-11-25T18:59:46.268Z"
   },
   {
    "duration": 226,
    "start_time": "2024-11-25T19:00:55.950Z"
   },
   {
    "duration": 344,
    "start_time": "2024-11-25T19:01:08.070Z"
   },
   {
    "duration": 484,
    "start_time": "2024-11-25T19:01:16.690Z"
   },
   {
    "duration": 17,
    "start_time": "2024-11-25T19:01:44.675Z"
   },
   {
    "duration": 267,
    "start_time": "2024-11-25T19:01:57.019Z"
   },
   {
    "duration": 312,
    "start_time": "2024-11-25T19:03:16.898Z"
   },
   {
    "duration": 363,
    "start_time": "2024-11-25T19:03:54.487Z"
   },
   {
    "duration": 7,
    "start_time": "2024-11-25T19:04:30.199Z"
   },
   {
    "duration": 299,
    "start_time": "2024-11-25T19:05:00.727Z"
   },
   {
    "duration": 5,
    "start_time": "2024-11-25T19:05:21.564Z"
   },
   {
    "duration": 229,
    "start_time": "2024-11-25T19:05:40.245Z"
   },
   {
    "duration": 319,
    "start_time": "2024-11-25T19:06:04.653Z"
   },
   {
    "duration": 336,
    "start_time": "2024-11-25T19:07:02.778Z"
   },
   {
    "duration": 408,
    "start_time": "2024-11-25T19:08:34.760Z"
   },
   {
    "duration": 279,
    "start_time": "2024-11-25T19:08:35.284Z"
   },
   {
    "duration": 309,
    "start_time": "2024-11-25T19:08:35.844Z"
   },
   {
    "duration": 344,
    "start_time": "2024-11-25T19:09:35.765Z"
   },
   {
    "duration": 323,
    "start_time": "2024-11-25T19:09:52.802Z"
   },
   {
    "duration": 344,
    "start_time": "2024-11-25T19:10:58.405Z"
   },
   {
    "duration": 367,
    "start_time": "2024-11-25T19:11:56.862Z"
   },
   {
    "duration": 23,
    "start_time": "2024-11-25T19:18:10.286Z"
   },
   {
    "duration": 11,
    "start_time": "2024-11-25T19:18:18.239Z"
   },
   {
    "duration": 7,
    "start_time": "2024-11-25T19:18:23.084Z"
   },
   {
    "duration": 7,
    "start_time": "2024-11-25T19:18:27.483Z"
   },
   {
    "duration": 360,
    "start_time": "2024-11-25T19:21:26.616Z"
   },
   {
    "duration": 31,
    "start_time": "2024-11-25T19:21:29.710Z"
   },
   {
    "duration": 2,
    "start_time": "2024-11-25T19:21:44.262Z"
   },
   {
    "duration": 23,
    "start_time": "2024-11-25T19:21:44.544Z"
   },
   {
    "duration": 12,
    "start_time": "2024-11-25T19:21:45.003Z"
   },
   {
    "duration": 7,
    "start_time": "2024-11-25T19:21:45.146Z"
   },
   {
    "duration": 6,
    "start_time": "2024-11-25T19:21:45.302Z"
   },
   {
    "duration": 4,
    "start_time": "2024-11-25T19:21:46.716Z"
   },
   {
    "duration": 7,
    "start_time": "2024-11-25T19:21:48.746Z"
   },
   {
    "duration": 15,
    "start_time": "2024-11-25T19:21:50.783Z"
   },
   {
    "duration": 9,
    "start_time": "2024-11-25T19:21:52.562Z"
   },
   {
    "duration": 7,
    "start_time": "2024-11-25T19:21:57.820Z"
   },
   {
    "duration": 9,
    "start_time": "2024-11-25T19:22:41.896Z"
   },
   {
    "duration": 401,
    "start_time": "2024-11-25T19:24:36.219Z"
   },
   {
    "duration": 313,
    "start_time": "2024-11-25T19:25:44.027Z"
   },
   {
    "duration": 297,
    "start_time": "2024-11-25T19:40:42.546Z"
   },
   {
    "duration": 106,
    "start_time": "2024-11-25T19:41:58.774Z"
   },
   {
    "duration": 4,
    "start_time": "2024-11-25T19:42:33.705Z"
   },
   {
    "duration": 3,
    "start_time": "2024-11-25T19:44:11.804Z"
   },
   {
    "duration": 12,
    "start_time": "2024-11-25T19:44:22.394Z"
   },
   {
    "duration": 3,
    "start_time": "2024-11-25T19:44:41.763Z"
   },
   {
    "duration": 341,
    "start_time": "2024-11-25T19:46:36.797Z"
   },
   {
    "duration": 271,
    "start_time": "2024-11-25T19:50:25.417Z"
   },
   {
    "duration": 4,
    "start_time": "2024-11-25T19:57:11.818Z"
   },
   {
    "duration": 22,
    "start_time": "2024-11-25T19:57:12.150Z"
   },
   {
    "duration": 11,
    "start_time": "2024-11-25T19:57:12.649Z"
   },
   {
    "duration": 8,
    "start_time": "2024-11-25T19:57:12.792Z"
   },
   {
    "duration": 8,
    "start_time": "2024-11-25T19:57:12.927Z"
   },
   {
    "duration": 4,
    "start_time": "2024-11-25T19:57:13.358Z"
   },
   {
    "duration": 7,
    "start_time": "2024-11-25T19:57:13.863Z"
   },
   {
    "duration": 14,
    "start_time": "2024-11-25T19:57:14.705Z"
   },
   {
    "duration": 10,
    "start_time": "2024-11-25T19:57:15.084Z"
   },
   {
    "duration": 9,
    "start_time": "2024-11-25T19:57:16.632Z"
   },
   {
    "duration": 351,
    "start_time": "2024-11-25T19:57:17.083Z"
   },
   {
    "duration": 385,
    "start_time": "2024-11-25T19:57:17.751Z"
   },
   {
    "duration": 306,
    "start_time": "2024-11-25T19:57:18.522Z"
   },
   {
    "duration": 231,
    "start_time": "2024-11-25T19:57:19.048Z"
   },
   {
    "duration": 328,
    "start_time": "2024-11-25T19:57:19.558Z"
   },
   {
    "duration": 3,
    "start_time": "2024-11-25T19:57:21.394Z"
   },
   {
    "duration": 402,
    "start_time": "2024-11-25T19:57:21.772Z"
   },
   {
    "duration": 377,
    "start_time": "2024-11-25T19:57:22.749Z"
   },
   {
    "duration": 250,
    "start_time": "2024-11-25T19:57:24.539Z"
   },
   {
    "duration": 15,
    "start_time": "2024-11-25T19:57:26.599Z"
   },
   {
    "duration": 330,
    "start_time": "2024-11-25T19:57:27.094Z"
   },
   {
    "duration": 8,
    "start_time": "2024-11-25T19:57:28.309Z"
   },
   {
    "duration": 15,
    "start_time": "2024-11-25T19:57:29.552Z"
   },
   {
    "duration": 8,
    "start_time": "2024-11-25T19:57:31.325Z"
   },
   {
    "duration": 9,
    "start_time": "2024-11-25T19:57:31.768Z"
   },
   {
    "duration": 849,
    "start_time": "2024-11-26T04:53:57.941Z"
   },
   {
    "duration": 34,
    "start_time": "2024-11-26T04:53:58.793Z"
   },
   {
    "duration": 12,
    "start_time": "2024-11-26T04:53:58.828Z"
   },
   {
    "duration": 8,
    "start_time": "2024-11-26T04:53:58.842Z"
   },
   {
    "duration": 6,
    "start_time": "2024-11-26T04:53:58.852Z"
   },
   {
    "duration": 4,
    "start_time": "2024-11-26T04:53:58.860Z"
   },
   {
    "duration": 7,
    "start_time": "2024-11-26T04:53:58.865Z"
   },
   {
    "duration": 13,
    "start_time": "2024-11-26T04:53:58.874Z"
   },
   {
    "duration": 48,
    "start_time": "2024-11-26T04:53:58.888Z"
   },
   {
    "duration": 9,
    "start_time": "2024-11-26T04:53:58.938Z"
   },
   {
    "duration": 399,
    "start_time": "2024-11-26T04:53:58.949Z"
   },
   {
    "duration": 423,
    "start_time": "2024-11-26T04:53:59.350Z"
   },
   {
    "duration": 365,
    "start_time": "2024-11-26T04:53:59.776Z"
   },
   {
    "duration": 263,
    "start_time": "2024-11-26T04:54:00.143Z"
   },
   {
    "duration": 317,
    "start_time": "2024-11-26T04:54:00.408Z"
   },
   {
    "duration": 3,
    "start_time": "2024-11-26T04:54:00.732Z"
   },
   {
    "duration": 417,
    "start_time": "2024-11-26T04:54:00.737Z"
   },
   {
    "duration": 367,
    "start_time": "2024-11-26T04:54:01.156Z"
   },
   {
    "duration": 388,
    "start_time": "2024-11-26T04:54:01.525Z"
   },
   {
    "duration": 25,
    "start_time": "2024-11-26T04:54:01.915Z"
   },
   {
    "duration": 215,
    "start_time": "2024-11-26T04:54:01.942Z"
   },
   {
    "duration": 9,
    "start_time": "2024-11-26T04:54:02.159Z"
   },
   {
    "duration": 15,
    "start_time": "2024-11-26T04:54:02.169Z"
   },
   {
    "duration": 7,
    "start_time": "2024-11-26T04:54:02.185Z"
   },
   {
    "duration": 7,
    "start_time": "2024-11-26T04:54:02.194Z"
   }
  ],
  "kernelspec": {
   "display_name": "base",
   "language": "python",
   "name": "python3"
  },
  "language_info": {
   "codemirror_mode": {
    "name": "ipython",
    "version": 3
   },
   "file_extension": ".py",
   "mimetype": "text/x-python",
   "name": "python",
   "nbconvert_exporter": "python",
   "pygments_lexer": "ipython3",
   "version": "3.12.7"
  },
  "toc": {
   "base_numbering": 1,
   "nav_menu": {},
   "number_sections": true,
   "sideBar": true,
   "skip_h1_title": true,
   "title_cell": "Table of Contents",
   "title_sidebar": "Contents",
   "toc_cell": false,
   "toc_position": {},
   "toc_section_display": true,
   "toc_window_display": false
  }
 },
 "nbformat": 4,
 "nbformat_minor": 2
}
